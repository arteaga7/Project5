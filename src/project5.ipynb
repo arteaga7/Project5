{
 "cells": [
  {
   "cell_type": "markdown",
   "metadata": {},
   "source": [
    "# Proyecto 5"
   ]
  },
  {
   "cell_type": "markdown",
   "metadata": {
    "id": "3rYiDeEH0q0f"
   },
   "source": [
    "## ¿Cuál es la mejor tarifa?\n",
    "\n",
    "Trabajas como analista para el operador de telecomunicaciones Megaline. La empresa ofrece a sus clientes dos tarifas de prepago, Surf y Ultimate. El departamento comercial quiere saber cuál de las tarifas genera más ingresos para poder ajustar el presupuesto de publicidad.\n",
    "\n",
    "Vas a realizar un análisis preliminar de las tarifas basado en una selección de clientes relativamente pequeña. Tendrás los datos de 500 clientes de Megaline: quiénes son los clientes, de dónde son, qué tarifa usan, así como la cantidad de llamadas que hicieron y los mensajes de texto que enviaron en 2018. Tu trabajo es analizar el comportamiento de los clientes y determinar qué tarifa de prepago genera más ingresos."
   ]
  },
  {
   "cell_type": "markdown",
   "metadata": {
    "id": "MQi4IPy70q0y"
   },
   "source": [
    "### Análisis de los datos"
   ]
  },
  {
   "cell_type": "markdown",
   "metadata": {},
   "source": [
    "Se agregan los datos y se hace una exploración del contenido para determinar si el nombre de\n",
    "las columnas y los tipo de datos son correctos. También si existen valores nulos y\n",
    "filas duplicadas."
   ]
  },
  {
   "cell_type": "code",
   "execution_count": 3,
   "metadata": {
    "id": "MtYIuBxu0q0z"
   },
   "outputs": [],
   "source": [
    "# Import libraries\n",
    "import pandas as pd\n",
    "import numpy as np\n",
    "from matplotlib import pyplot as plt"
   ]
  },
  {
   "cell_type": "code",
   "execution_count": 4,
   "metadata": {
    "id": "CCqPW7rS0q01"
   },
   "outputs": [],
   "source": [
    "# Read DataFrames\n",
    "calls = pd.read_csv('./megaline_calls.csv',sep=',',header=0)\n",
    "internet = pd.read_csv('./megaline_internet.csv',sep=',',header=0)\n",
    "messages = pd.read_csv('./megaline_messages.csv',sep=',',header=0)\n",
    "plans = pd.read_csv('./megaline_plans.csv',sep=',',header=0)\n",
    "users = pd.read_csv('./megaline_users.csv',sep=',',header=0)"
   ]
  },
  {
   "cell_type": "markdown",
   "metadata": {
    "id": "ohBhimvH0q01"
   },
   "source": [
    "#### DataFrame: Tarifas"
   ]
  },
  {
   "cell_type": "code",
   "execution_count": 5,
   "metadata": {
    "id": "GptqP3Q40q02"
   },
   "outputs": [
    {
     "name": "stdout",
     "output_type": "stream",
     "text": [
      "<class 'pandas.core.frame.DataFrame'>\n",
      "RangeIndex: 2 entries, 0 to 1\n",
      "Data columns (total 8 columns):\n",
      " #   Column                 Non-Null Count  Dtype  \n",
      "---  ------                 --------------  -----  \n",
      " 0   messages_included      2 non-null      int64  \n",
      " 1   mb_per_month_included  2 non-null      int64  \n",
      " 2   minutes_included       2 non-null      int64  \n",
      " 3   usd_monthly_pay        2 non-null      int64  \n",
      " 4   usd_per_gb             2 non-null      int64  \n",
      " 5   usd_per_message        2 non-null      float64\n",
      " 6   usd_per_minute         2 non-null      float64\n",
      " 7   plan_name              2 non-null      object \n",
      "dtypes: float64(2), int64(5), object(1)\n",
      "memory usage: 256.0+ bytes\n"
     ]
    }
   ],
   "source": [
    "# DataFrame information\n",
    "plans.info()"
   ]
  },
  {
   "cell_type": "code",
   "execution_count": 6,
   "metadata": {
    "id": "64xzjwL70q02"
   },
   "outputs": [
    {
     "name": "stdout",
     "output_type": "stream",
     "text": [
      "   messages_included  mb_per_month_included  minutes_included  \\\n",
      "0                 50                  15360               500   \n",
      "1               1000                  30720              3000   \n",
      "\n",
      "   usd_monthly_pay  usd_per_gb  usd_per_message  usd_per_minute plan_name  \n",
      "0               20          10             0.03            0.03      surf  \n",
      "1               70           7             0.01            0.01  ultimate  \n"
     ]
    }
   ],
   "source": [
    "# Show DataFrame\n",
    "print(plans.head())"
   ]
  },
  {
   "cell_type": "markdown",
   "metadata": {},
   "source": [
    "*Nota:* Los datos de esta tabla tienen el formato adecuado, no hay varoles nulos ni ausentes, por ahora no es necesario modificarlos."
   ]
  },
  {
   "cell_type": "markdown",
   "metadata": {
    "id": "1n2X6WXf0q04"
   },
   "source": [
    "#### DataFrame: Usuarios/as"
   ]
  },
  {
   "cell_type": "code",
   "execution_count": 7,
   "metadata": {
    "id": "2NgjWFqx0q05"
   },
   "outputs": [
    {
     "name": "stdout",
     "output_type": "stream",
     "text": [
      "<class 'pandas.core.frame.DataFrame'>\n",
      "RangeIndex: 500 entries, 0 to 499\n",
      "Data columns (total 8 columns):\n",
      " #   Column      Non-Null Count  Dtype \n",
      "---  ------      --------------  ----- \n",
      " 0   user_id     500 non-null    int64 \n",
      " 1   first_name  500 non-null    object\n",
      " 2   last_name   500 non-null    object\n",
      " 3   age         500 non-null    int64 \n",
      " 4   city        500 non-null    object\n",
      " 5   reg_date    500 non-null    object\n",
      " 6   plan        500 non-null    object\n",
      " 7   churn_date  34 non-null     object\n",
      "dtypes: int64(2), object(6)\n",
      "memory usage: 31.4+ KB\n"
     ]
    }
   ],
   "source": [
    "# DataFrame information\n",
    "users.info()"
   ]
  },
  {
   "cell_type": "markdown",
   "metadata": {
    "id": "dCZoUq4f0q06"
   },
   "source": [
    "*Nota:* La columna \"churn_date\" tiene valores nulos y la columna 'reg_date' no tiene formato de fecha.\n"
   ]
  },
  {
   "cell_type": "markdown",
   "metadata": {
    "id": "8OdKMwJv0q06"
   },
   "source": [
    "Se eliminará la columna \"churn_date\", porque tiene valores ausentes y no será usada en este análisis."
   ]
  },
  {
   "cell_type": "code",
   "execution_count": 8,
   "metadata": {
    "id": "yUqX-K0C0q07"
   },
   "outputs": [
    {
     "name": "stdout",
     "output_type": "stream",
     "text": [
      "   user_id first_name  last_name  age                                   city  \\\n",
      "0     1000   Anamaria      Bauer   45  Atlanta-Sandy Springs-Roswell, GA MSA   \n",
      "1     1001     Mickey  Wilkerson   28        Seattle-Tacoma-Bellevue, WA MSA   \n",
      "2     1002     Carlee    Hoffman   36   Las Vegas-Henderson-Paradise, NV MSA   \n",
      "\n",
      "     reg_date      plan  \n",
      "0  2018-12-24  ultimate  \n",
      "1  2018-08-13      surf  \n",
      "2  2018-10-21      surf  \n"
     ]
    }
   ],
   "source": [
    "# Delete coumn 'churn_date' if it has null-values\n",
    "users = users.drop(labels=['churn_date'],axis='columns')\n",
    "print(users.head(3))"
   ]
  },
  {
   "cell_type": "markdown",
   "metadata": {},
   "source": [
    "Se agregará una columna extra del mes de suscripción, se usará más adelante."
   ]
  },
  {
   "cell_type": "code",
   "execution_count": 9,
   "metadata": {
    "id": "iq0AaBS90q08"
   },
   "outputs": [
    {
     "name": "stdout",
     "output_type": "stream",
     "text": [
      "   user_id first_name  last_name  age                                   city  \\\n",
      "0     1000   Anamaria      Bauer   45  Atlanta-Sandy Springs-Roswell, GA MSA   \n",
      "1     1001     Mickey  Wilkerson   28        Seattle-Tacoma-Bellevue, WA MSA   \n",
      "2     1002     Carlee    Hoffman   36   Las Vegas-Henderson-Paradise, NV MSA   \n",
      "\n",
      "     reg_date      plan  month  \n",
      "0  2018-12-24  ultimate     12  \n",
      "1  2018-08-13      surf      8  \n",
      "2  2018-10-21      surf     10  \n"
     ]
    }
   ],
   "source": [
    "# Change 'reg_date' to datetime format and extract month\n",
    "users['month'] = pd.to_datetime(users['reg_date'],format='%Y-%m-%d')\n",
    "users['month'] = users['month'].dt.month\n",
    "print(users.head(3))"
   ]
  },
  {
   "cell_type": "markdown",
   "metadata": {
    "id": "o7MeKCid0q08"
   },
   "source": [
    "#### DataFrame: Llamadas"
   ]
  },
  {
   "cell_type": "code",
   "execution_count": 10,
   "metadata": {
    "id": "6dDlnoDm0q08"
   },
   "outputs": [
    {
     "name": "stdout",
     "output_type": "stream",
     "text": [
      "<class 'pandas.core.frame.DataFrame'>\n",
      "RangeIndex: 137735 entries, 0 to 137734\n",
      "Data columns (total 4 columns):\n",
      " #   Column     Non-Null Count   Dtype  \n",
      "---  ------     --------------   -----  \n",
      " 0   id         137735 non-null  object \n",
      " 1   user_id    137735 non-null  int64  \n",
      " 2   call_date  137735 non-null  object \n",
      " 3   duration   137735 non-null  float64\n",
      "dtypes: float64(1), int64(1), object(2)\n",
      "memory usage: 4.2+ MB\n"
     ]
    }
   ],
   "source": [
    "# DataFrame information\n",
    "calls.info()"
   ]
  },
  {
   "cell_type": "code",
   "execution_count": 11,
   "metadata": {
    "id": "kuh1vlNB0q09"
   },
   "outputs": [
    {
     "name": "stdout",
     "output_type": "stream",
     "text": [
      "         id  user_id   call_date  duration\n",
      "0   1000_93     1000  2018-12-27      8.52\n",
      "1  1000_145     1000  2018-12-27     13.66\n",
      "2  1000_247     1000  2018-12-27     14.48\n",
      "3  1000_309     1000  2018-12-28      5.76\n",
      "4  1000_380     1000  2018-12-30      4.22\n"
     ]
    }
   ],
   "source": [
    "# Show DataFrame\n",
    "print(calls.head())"
   ]
  },
  {
   "cell_type": "markdown",
   "metadata": {
    "id": "DOAxYJSx0q09"
   },
   "source": [
    "No hay valores ausentes. Se agregara una columna del mes de las llamdas."
   ]
  },
  {
   "cell_type": "code",
   "execution_count": 12,
   "metadata": {
    "id": "S2r8xA4f0q0-"
   },
   "outputs": [],
   "source": [
    "# Change 'call_date' to datetime format and extract month\n",
    "calls['month'] = pd.to_datetime(calls['call_date'],format='%Y-%m-%d')\n",
    "calls['month'] = calls['month'].dt.month"
   ]
  },
  {
   "cell_type": "markdown",
   "metadata": {
    "id": "mOUZSi180q0_"
   },
   "source": [
    "#### DataFrame: Mensajes"
   ]
  },
  {
   "cell_type": "code",
   "execution_count": 13,
   "metadata": {
    "id": "R-bYJpdV0q1A"
   },
   "outputs": [
    {
     "name": "stdout",
     "output_type": "stream",
     "text": [
      "<class 'pandas.core.frame.DataFrame'>\n",
      "RangeIndex: 76051 entries, 0 to 76050\n",
      "Data columns (total 3 columns):\n",
      " #   Column        Non-Null Count  Dtype \n",
      "---  ------        --------------  ----- \n",
      " 0   id            76051 non-null  object\n",
      " 1   user_id       76051 non-null  int64 \n",
      " 2   message_date  76051 non-null  object\n",
      "dtypes: int64(1), object(2)\n",
      "memory usage: 1.7+ MB\n"
     ]
    }
   ],
   "source": [
    "# DataFrame information\n",
    "messages.info()"
   ]
  },
  {
   "cell_type": "code",
   "execution_count": 14,
   "metadata": {
    "id": "mCEl2iGE0q1A"
   },
   "outputs": [
    {
     "name": "stdout",
     "output_type": "stream",
     "text": [
      "         id  user_id message_date\n",
      "0  1000_125     1000   2018-12-27\n",
      "1  1000_160     1000   2018-12-31\n",
      "2  1000_223     1000   2018-12-31\n"
     ]
    }
   ],
   "source": [
    "# Show DataFrame\n",
    "print(messages.head(3))"
   ]
  },
  {
   "cell_type": "markdown",
   "metadata": {
    "id": "04xDj7KH0q1A"
   },
   "source": [
    "No hay valores ausentes. Se agregra una columna para el mes de los mensajes."
   ]
  },
  {
   "cell_type": "code",
   "execution_count": 15,
   "metadata": {
    "id": "vsllvkoa0q1B"
   },
   "outputs": [
    {
     "name": "stdout",
     "output_type": "stream",
     "text": [
      "         id  user_id message_date  month\n",
      "0  1000_125     1000   2018-12-27     12\n",
      "1  1000_160     1000   2018-12-31     12\n",
      "2  1000_223     1000   2018-12-31     12\n"
     ]
    }
   ],
   "source": [
    "# Change 'message_date' to datetime format and extract month\n",
    "messages['message_date'] = pd.to_datetime(messages['message_date'],format='%Y-%m-%d')\n",
    "messages['month'] = messages['message_date'].dt.month\n",
    "print(messages.head(3))"
   ]
  },
  {
   "cell_type": "markdown",
   "metadata": {
    "id": "bStkaxn40q1C"
   },
   "source": [
    "#### DataFrame: Internet"
   ]
  },
  {
   "cell_type": "code",
   "execution_count": 16,
   "metadata": {
    "id": "e-Uz5qyn0q1C"
   },
   "outputs": [
    {
     "name": "stdout",
     "output_type": "stream",
     "text": [
      "<class 'pandas.core.frame.DataFrame'>\n",
      "RangeIndex: 104825 entries, 0 to 104824\n",
      "Data columns (total 4 columns):\n",
      " #   Column        Non-Null Count   Dtype  \n",
      "---  ------        --------------   -----  \n",
      " 0   id            104825 non-null  object \n",
      " 1   user_id       104825 non-null  int64  \n",
      " 2   session_date  104825 non-null  object \n",
      " 3   mb_used       104825 non-null  float64\n",
      "dtypes: float64(1), int64(1), object(2)\n",
      "memory usage: 3.2+ MB\n"
     ]
    }
   ],
   "source": [
    "# DataFrame information\n",
    "internet.info()"
   ]
  },
  {
   "cell_type": "code",
   "execution_count": 17,
   "metadata": {
    "id": "9r3x_XLw0q1C"
   },
   "outputs": [
    {
     "name": "stdout",
     "output_type": "stream",
     "text": [
      "         id  user_id session_date  mb_used\n",
      "0   1000_13     1000   2018-12-29    89.86\n",
      "1  1000_204     1000   2018-12-31     0.00\n",
      "2  1000_379     1000   2018-12-28   660.40\n"
     ]
    }
   ],
   "source": [
    "# Show DataFrame\n",
    "print(internet.head(3))"
   ]
  },
  {
   "cell_type": "markdown",
   "metadata": {
    "id": "zlZMuIEK0q1D"
   },
   "source": [
    "No hay valores ausentes. Se agregra una columna para el mes."
   ]
  },
  {
   "cell_type": "code",
   "execution_count": 18,
   "metadata": {
    "id": "zVeanzdd0q1E"
   },
   "outputs": [
    {
     "name": "stdout",
     "output_type": "stream",
     "text": [
      "         id  user_id session_date  mb_used  month\n",
      "0   1000_13     1000   2018-12-29    89.86     12\n",
      "1  1000_204     1000   2018-12-31     0.00     12\n",
      "2  1000_379     1000   2018-12-28   660.40     12\n"
     ]
    }
   ],
   "source": [
    "# Change 'session_date' to datetime format and extract month\n",
    "internet['session_date'] = pd.to_datetime(internet['session_date'],format='%Y-%m-%d')\n",
    "internet['month'] = internet['session_date'].dt.month\n",
    "print(internet.head(3))"
   ]
  },
  {
   "cell_type": "markdown",
   "metadata": {},
   "source": [
    "## Análisis de los datos"
   ]
  },
  {
   "cell_type": "markdown",
   "metadata": {
    "id": "hMR1tP5d0q1F"
   },
   "source": [
    "### Agregar datos por usuario"
   ]
  },
  {
   "cell_type": "code",
   "execution_count": 19,
   "metadata": {
    "id": "A332cedB0q1G"
   },
   "outputs": [
    {
     "name": "stdout",
     "output_type": "stream",
     "text": [
      "   user_id  month  call_date\n",
      "0     1000     12         16\n",
      "1     1001      8         27\n",
      "2     1001      9         49\n"
     ]
    }
   ],
   "source": [
    "# Group by 'user_id' and 'month' to count calls per user per month\n",
    "calls_per_user = calls.groupby(by=['user_id','month'])['call_date'].count()\n",
    "calls_per_user = calls_per_user.reset_index()\n",
    "print(calls_per_user.head(3))"
   ]
  },
  {
   "cell_type": "code",
   "execution_count": 20,
   "metadata": {
    "id": "aw2cmuql0q1G"
   },
   "outputs": [
    {
     "name": "stdout",
     "output_type": "stream",
     "text": [
      "   user_id  month  duration\n",
      "0     1000     12    116.83\n",
      "1     1001      8    171.14\n",
      "2     1001      9    297.69\n"
     ]
    }
   ],
   "source": [
    "# Group by 'user_id' and 'month' to sum call durations per user per month\n",
    "mins_per_user = calls.groupby(by=['user_id','month'])['duration'].sum()\n",
    "mins_per_user = mins_per_user.reset_index()\n",
    "print(mins_per_user.head(3))"
   ]
  },
  {
   "cell_type": "code",
   "execution_count": 21,
   "metadata": {
    "id": "CcQvNHn60q1G"
   },
   "outputs": [
    {
     "name": "stdout",
     "output_type": "stream",
     "text": [
      "   user_id  month  message_date\n",
      "0     1000     12            11\n",
      "1     1001      8            30\n",
      "2     1001      9            44\n"
     ]
    }
   ],
   "source": [
    "# Group by 'user_id' and 'month' to count messages per user per month\n",
    "msgs_per_user = messages.groupby(by=['user_id','month'])['message_date'].count()\n",
    "msgs_per_user = msgs_per_user.reset_index()\n",
    "print(msgs_per_user.head(3))"
   ]
  },
  {
   "cell_type": "code",
   "execution_count": 22,
   "metadata": {
    "id": "H1AqN2eG0q1H"
   },
   "outputs": [
    {
     "name": "stdout",
     "output_type": "stream",
     "text": [
      "   user_id  month   mb_used\n",
      "0     1000     12   1901.47\n",
      "1     1001      8   6919.15\n",
      "2     1001      9  13314.82\n"
     ]
    }
   ],
   "source": [
    "# Group by 'user_id' and 'month' to count MB used per user per month\n",
    "internet_per_user = internet.groupby(by=['user_id','month'])['mb_used'].sum()\n",
    "internet_per_user = internet_per_user.reset_index()\n",
    "print(internet_per_user.head(3))"
   ]
  },
  {
   "cell_type": "markdown",
   "metadata": {},
   "source": [
    "A continuacion se combinaran los DataFrames obtenidos previamente, considerando las columnas 'user_id' y 'month'."
   ]
  },
  {
   "cell_type": "code",
   "execution_count": 23,
   "metadata": {
    "id": "FW99ykyf0q1H"
   },
   "outputs": [],
   "source": [
    "# Merge data into a single DataFrame\n",
    "full_user = calls_per_user.merge(mins_per_user,on=['user_id','month'],how='left')"
   ]
  },
  {
   "cell_type": "code",
   "execution_count": 24,
   "metadata": {},
   "outputs": [],
   "source": [
    "# Merge data into a single DataFrame\n",
    "full_user = full_user.merge(msgs_per_user,on=['user_id','month'],how='left')"
   ]
  },
  {
   "cell_type": "code",
   "execution_count": 25,
   "metadata": {},
   "outputs": [
    {
     "name": "stdout",
     "output_type": "stream",
     "text": [
      "   user_id  month  call_date  duration  message_date   mb_used\n",
      "0     1000     12         16    116.83          11.0   1901.47\n",
      "1     1001      8         27    171.14          30.0   6919.15\n",
      "2     1001      9         49    297.69          44.0  13314.82\n"
     ]
    }
   ],
   "source": [
    "# Merge data into a single DataFrame\n",
    "full_user = full_user.merge(internet_per_user,on=['user_id','month'],how='left')\n",
    "print(full_user.head(3))"
   ]
  },
  {
   "cell_type": "markdown",
   "metadata": {},
   "source": [
    "Al unir los dataFrames puede que algunos campos fueron llenados con NaN, esto se debe a que tal vez no había información para 'mb_used' en el mes 7, por ejemplo, entonces esa celda se llenó con NaN. Se llenarán tales celdas con 0."
   ]
  },
  {
   "cell_type": "code",
   "execution_count": 26,
   "metadata": {},
   "outputs": [
    {
     "name": "stdout",
     "output_type": "stream",
     "text": [
      "user_id         0\n",
      "month           0\n",
      "call_date       0\n",
      "duration        0\n",
      "message_date    0\n",
      "mb_used         0\n",
      "dtype: int64\n"
     ]
    }
   ],
   "source": [
    "# Fill null values with 0\n",
    "full_user = full_user.fillna(0)\n",
    "\n",
    "# Show total null values per column\n",
    "print(full_user.isna().sum())"
   ]
  },
  {
   "cell_type": "markdown",
   "metadata": {},
   "source": [
    "Ahora se agregarán los datos de las tarifas de los planes."
   ]
  },
  {
   "cell_type": "code",
   "execution_count": 27,
   "metadata": {},
   "outputs": [
    {
     "name": "stdout",
     "output_type": "stream",
     "text": [
      "   user_id  month  call_date  duration  message_date   mb_used plan_name  \\\n",
      "0     1000     12         16    116.83          11.0   1901.47  ultimate   \n",
      "1     1001      8         27    171.14          30.0   6919.15      surf   \n",
      "2     1001      9         49    297.69          44.0  13314.82      surf   \n",
      "\n",
      "                                    city  \n",
      "0  Atlanta-Sandy Springs-Roswell, GA MSA  \n",
      "1        Seattle-Tacoma-Bellevue, WA MSA  \n",
      "2        Seattle-Tacoma-Bellevue, WA MSA  \n"
     ]
    }
   ],
   "source": [
    "# Extrac some columns and rename them\n",
    "user_plan = users[['user_id','plan','city']]\n",
    "user_plan.columns = ['user_id','plan_name','city']\n",
    "\n",
    "# Merge user data with plans\n",
    "full_user = full_user.merge(user_plan,on='user_id',how='left')\n",
    "print(full_user.head(3))"
   ]
  },
  {
   "cell_type": "code",
   "execution_count": 28,
   "metadata": {
    "id": "0dNOXHag0q1H"
   },
   "outputs": [
    {
     "name": "stdout",
     "output_type": "stream",
     "text": [
      "   user_id  month  call_date  duration  message_date   mb_used plan_name  \\\n",
      "0     1000     12         16    116.83          11.0   1901.47  ultimate   \n",
      "1     1001      8         27    171.14          30.0   6919.15      surf   \n",
      "2     1001      9         49    297.69          44.0  13314.82      surf   \n",
      "\n",
      "                                    city  messages_included  \\\n",
      "0  Atlanta-Sandy Springs-Roswell, GA MSA               1000   \n",
      "1        Seattle-Tacoma-Bellevue, WA MSA                 50   \n",
      "2        Seattle-Tacoma-Bellevue, WA MSA                 50   \n",
      "\n",
      "   mb_per_month_included  minutes_included  usd_monthly_pay  usd_per_gb  \\\n",
      "0                  30720              3000               70           7   \n",
      "1                  15360               500               20          10   \n",
      "2                  15360               500               20          10   \n",
      "\n",
      "   usd_per_message  usd_per_minute  \n",
      "0             0.01            0.01  \n",
      "1             0.03            0.03  \n",
      "2             0.03            0.03  \n"
     ]
    }
   ],
   "source": [
    "# Merge with plans DataFrame\n",
    "df_clean = full_user.merge(plans,on='plan_name',how='left')\n",
    "print(df_clean.head(3))"
   ]
  },
  {
   "cell_type": "code",
   "execution_count": 29,
   "metadata": {
    "id": "5FGCf_c60q1I"
   },
   "outputs": [],
   "source": [
    "# Obtain monthly income per user\n",
    "def income_monthly(row):\n",
    "    m = row['duration'] - row['minutes_included']\n",
    "    m = m*row['usd_per_minute']\n",
    "    if m<0:\n",
    "        m = 0\n",
    "    \n",
    "    msg = row['message_date'] - row['messages_included']\n",
    "    msg = msg*row['usd_per_message']\n",
    "    if msg<0:\n",
    "        msg = 0\n",
    "    \n",
    "    gbs = row['mb_used'] - row['mb_per_month_included']\n",
    "    gbs = gbs*row['usd_per_gb']\n",
    "    if gbs<0:\n",
    "        gbs = 0\n",
    "    \n",
    "    total = row['usd_monthly_pay'] + m + msg + gbs\n",
    "    return total"
   ]
  },
  {
   "cell_type": "code",
   "execution_count": 30,
   "metadata": {},
   "outputs": [
    {
     "data": {
      "text/html": [
       "<div>\n",
       "<style scoped>\n",
       "    .dataframe tbody tr th:only-of-type {\n",
       "        vertical-align: middle;\n",
       "    }\n",
       "\n",
       "    .dataframe tbody tr th {\n",
       "        vertical-align: top;\n",
       "    }\n",
       "\n",
       "    .dataframe thead th {\n",
       "        text-align: right;\n",
       "    }\n",
       "</style>\n",
       "<table border=\"1\" class=\"dataframe\">\n",
       "  <thead>\n",
       "    <tr style=\"text-align: right;\">\n",
       "      <th></th>\n",
       "      <th>user_id</th>\n",
       "      <th>month</th>\n",
       "      <th>call_date</th>\n",
       "      <th>duration</th>\n",
       "      <th>message_date</th>\n",
       "      <th>mb_used</th>\n",
       "      <th>plan_name</th>\n",
       "      <th>city</th>\n",
       "      <th>messages_included</th>\n",
       "      <th>mb_per_month_included</th>\n",
       "      <th>minutes_included</th>\n",
       "      <th>usd_monthly_pay</th>\n",
       "      <th>usd_per_gb</th>\n",
       "      <th>usd_per_message</th>\n",
       "      <th>usd_per_minute</th>\n",
       "      <th>total_pay</th>\n",
       "    </tr>\n",
       "  </thead>\n",
       "  <tbody>\n",
       "    <tr>\n",
       "      <th>0</th>\n",
       "      <td>1000</td>\n",
       "      <td>12</td>\n",
       "      <td>16</td>\n",
       "      <td>116.83</td>\n",
       "      <td>11.0</td>\n",
       "      <td>1901.47</td>\n",
       "      <td>ultimate</td>\n",
       "      <td>Atlanta-Sandy Springs-Roswell, GA MSA</td>\n",
       "      <td>1000</td>\n",
       "      <td>30720</td>\n",
       "      <td>3000</td>\n",
       "      <td>70</td>\n",
       "      <td>7</td>\n",
       "      <td>0.01</td>\n",
       "      <td>0.01</td>\n",
       "      <td>70.0</td>\n",
       "    </tr>\n",
       "    <tr>\n",
       "      <th>1</th>\n",
       "      <td>1001</td>\n",
       "      <td>8</td>\n",
       "      <td>27</td>\n",
       "      <td>171.14</td>\n",
       "      <td>30.0</td>\n",
       "      <td>6919.15</td>\n",
       "      <td>surf</td>\n",
       "      <td>Seattle-Tacoma-Bellevue, WA MSA</td>\n",
       "      <td>50</td>\n",
       "      <td>15360</td>\n",
       "      <td>500</td>\n",
       "      <td>20</td>\n",
       "      <td>10</td>\n",
       "      <td>0.03</td>\n",
       "      <td>0.03</td>\n",
       "      <td>20.0</td>\n",
       "    </tr>\n",
       "    <tr>\n",
       "      <th>2</th>\n",
       "      <td>1001</td>\n",
       "      <td>9</td>\n",
       "      <td>49</td>\n",
       "      <td>297.69</td>\n",
       "      <td>44.0</td>\n",
       "      <td>13314.82</td>\n",
       "      <td>surf</td>\n",
       "      <td>Seattle-Tacoma-Bellevue, WA MSA</td>\n",
       "      <td>50</td>\n",
       "      <td>15360</td>\n",
       "      <td>500</td>\n",
       "      <td>20</td>\n",
       "      <td>10</td>\n",
       "      <td>0.03</td>\n",
       "      <td>0.03</td>\n",
       "      <td>20.0</td>\n",
       "    </tr>\n",
       "  </tbody>\n",
       "</table>\n",
       "</div>"
      ],
      "text/plain": [
       "   user_id  month  call_date  duration  message_date   mb_used plan_name  \\\n",
       "0     1000     12         16    116.83          11.0   1901.47  ultimate   \n",
       "1     1001      8         27    171.14          30.0   6919.15      surf   \n",
       "2     1001      9         49    297.69          44.0  13314.82      surf   \n",
       "\n",
       "                                    city  messages_included  \\\n",
       "0  Atlanta-Sandy Springs-Roswell, GA MSA               1000   \n",
       "1        Seattle-Tacoma-Bellevue, WA MSA                 50   \n",
       "2        Seattle-Tacoma-Bellevue, WA MSA                 50   \n",
       "\n",
       "   mb_per_month_included  minutes_included  usd_monthly_pay  usd_per_gb  \\\n",
       "0                  30720              3000               70           7   \n",
       "1                  15360               500               20          10   \n",
       "2                  15360               500               20          10   \n",
       "\n",
       "   usd_per_message  usd_per_minute  total_pay  \n",
       "0             0.01            0.01       70.0  \n",
       "1             0.03            0.03       20.0  \n",
       "2             0.03            0.03       20.0  "
      ]
     },
     "execution_count": 30,
     "metadata": {},
     "output_type": "execute_result"
    }
   ],
   "source": [
    "# Obain total payment\n",
    "df_clean['total_pay'] = df_clean.apply(income_monthly, axis=1)\n",
    "df_clean.head(3)"
   ]
  },
  {
   "cell_type": "markdown",
   "metadata": {
    "id": "-jtyHzJb0q1I"
   },
   "source": [
    "## Estudia el comportamiento de usuario"
   ]
  },
  {
   "cell_type": "markdown",
   "metadata": {},
   "source": [
    "#### Compara la duración promedio de llamadas por cada plan y por cada mes. Traza un gráfico de barras para visualizarla."
   ]
  },
  {
   "cell_type": "code",
   "execution_count": 31,
   "metadata": {
    "id": "Jf5v5--k0q1J"
   },
   "outputs": [],
   "source": [
    "# Filter and group by month and plan name to calculate average duration\n",
    "df_month_ultimate = df_clean[df_clean['plan_name'] == 'ultimate'][['month','duration']]\n",
    "df_month_ultimate = df_month_ultimate.groupby(by='month')['duration'].mean()\n",
    "\n",
    "df_month_surf = df_clean[df_clean['plan_name'] == 'surf'][['month','duration']]\n",
    "df_month_surf = df_month_surf.groupby(by='month')['duration'].mean()"
   ]
  },
  {
   "cell_type": "code",
   "execution_count": 32,
   "metadata": {},
   "outputs": [],
   "source": [
    "# Concatenate the two DataFrames for ultimate and surf plans\n",
    "df_plans = pd.concat([df_month_ultimate,df_month_surf],axis='columns')"
   ]
  },
  {
   "cell_type": "code",
   "execution_count": 33,
   "metadata": {},
   "outputs": [
    {
     "data": {
      "image/png": "[encoded data removed]",
      "text/plain": [
       "<Figure size 640x480 with 1 Axes>"
      ]
     },
     "metadata": {},
     "output_type": "display_data"
    }
   ],
   "source": [
    "# Bar plot\n",
    "df_plans.plot(kind='bar',title='Duración promedio de llamadas por plan y por mes')\n",
    "plt.xlabel('Meses (0-Ene, 1-Feb)')\n",
    "plt.ylabel('Duración promedio (minutos)')\n",
    "plt.legend(['Ultimate','Surf'])\n",
    "plt.xticks(rotation=0)\n",
    "plt.show()"
   ]
  },
  {
   "cell_type": "markdown",
   "metadata": {},
   "source": [
    "#### Compara el número de minutos mensuales que necesitan los usuarios de cada plan. Traza un histograma."
   ]
  },
  {
   "cell_type": "code",
   "execution_count": 34,
   "metadata": {
    "id": "QoLqW1S_0q1J"
   },
   "outputs": [
    {
     "data": {
      "image/png": "[encoded data removed]",
      "text/plain": [
       "<Figure size 640x480 with 1 Axes>"
      ]
     },
     "metadata": {},
     "output_type": "display_data"
    }
   ],
   "source": [
    "# Filter DataFrame by plan\n",
    "min_ultimate = df_clean[df_clean['plan_name'] == 'ultimate']['duration']\n",
    "min_ultimate.plot(kind='hist',bins=20)\n",
    "\n",
    "min_surf = df_clean[df_clean['plan_name'] == 'surf']['duration']\n",
    "min_surf.plot(kind='hist',bins=20,alpha=0.7)\n",
    "plt.legend(['Ultimate','Surf'])\n",
    "plt.xlabel('Duración (segundos)')\n",
    "plt.ylabel('Frecuencia')\n",
    "plt.show()"
   ]
  },
  {
   "cell_type": "markdown",
   "metadata": {},
   "source": [
    "#### Calcula la media y la varianza de la duración mensual de llamadas."
   ]
  },
  {
   "cell_type": "code",
   "execution_count": 35,
   "metadata": {
    "id": "oSndbAnt0q1K"
   },
   "outputs": [
    {
     "data": {
      "text/html": [
       "<div>\n",
       "<style scoped>\n",
       "    .dataframe tbody tr th:only-of-type {\n",
       "        vertical-align: middle;\n",
       "    }\n",
       "\n",
       "    .dataframe tbody tr th {\n",
       "        vertical-align: top;\n",
       "    }\n",
       "\n",
       "    .dataframe thead th {\n",
       "        text-align: right;\n",
       "    }\n",
       "</style>\n",
       "<table border=\"1\" class=\"dataframe\">\n",
       "  <thead>\n",
       "    <tr style=\"text-align: right;\">\n",
       "      <th></th>\n",
       "      <th>ultimate</th>\n",
       "      <th>surf</th>\n",
       "    </tr>\n",
       "  </thead>\n",
       "  <tbody>\n",
       "    <tr>\n",
       "      <th>count</th>\n",
       "      <td>713.000000</td>\n",
       "      <td>1545.000000</td>\n",
       "    </tr>\n",
       "    <tr>\n",
       "      <th>mean</th>\n",
       "      <td>410.180954</td>\n",
       "      <td>412.097890</td>\n",
       "    </tr>\n",
       "    <tr>\n",
       "      <th>std</th>\n",
       "      <td>224.745705</td>\n",
       "      <td>216.797727</td>\n",
       "    </tr>\n",
       "    <tr>\n",
       "      <th>min</th>\n",
       "      <td>0.000000</td>\n",
       "      <td>0.000000</td>\n",
       "    </tr>\n",
       "    <tr>\n",
       "      <th>25%</th>\n",
       "      <td>247.970000</td>\n",
       "      <td>262.780000</td>\n",
       "    </tr>\n",
       "    <tr>\n",
       "      <th>50%</th>\n",
       "      <td>399.980000</td>\n",
       "      <td>405.710000</td>\n",
       "    </tr>\n",
       "    <tr>\n",
       "      <th>75%</th>\n",
       "      <td>534.820000</td>\n",
       "      <td>546.230000</td>\n",
       "    </tr>\n",
       "    <tr>\n",
       "      <th>max</th>\n",
       "      <td>1292.090000</td>\n",
       "      <td>1431.220000</td>\n",
       "    </tr>\n",
       "  </tbody>\n",
       "</table>\n",
       "</div>"
      ],
      "text/plain": [
       "          ultimate         surf\n",
       "count   713.000000  1545.000000\n",
       "mean    410.180954   412.097890\n",
       "std     224.745705   216.797727\n",
       "min       0.000000     0.000000\n",
       "25%     247.970000   262.780000\n",
       "50%     399.980000   405.710000\n",
       "75%     534.820000   546.230000\n",
       "max    1292.090000  1431.220000"
      ]
     },
     "execution_count": 35,
     "metadata": {},
     "output_type": "execute_result"
    }
   ],
   "source": [
    "# Concatenate dataFrames\n",
    "df_duration_call = pd.concat([min_ultimate,min_surf],axis='columns')\n",
    "df_duration_call.columns = ['ultimate','surf']\n",
    "\n",
    "# Show DataFrame statistics metrics\n",
    "df_duration_call.describe()"
   ]
  },
  {
   "cell_type": "markdown",
   "metadata": {},
   "source": [
    "#### Traza un diagrama de caja para visualizar la distribución de la duración mensual de llamadas"
   ]
  },
  {
   "cell_type": "code",
   "execution_count": 36,
   "metadata": {
    "id": "nZzoRUKc0q1K"
   },
   "outputs": [
    {
     "data": {
      "image/png": "[encoded data removed]",
      "text/plain": [
       "<Figure size 640x480 with 1 Axes>"
      ]
     },
     "metadata": {},
     "output_type": "display_data"
    }
   ],
   "source": [
    "# Box plot\n",
    "df_duration_call.plot(kind='box')\n",
    "plt.title('Distribucion de duración de llamadas por plan')\n",
    "plt.show()"
   ]
  },
  {
   "cell_type": "markdown",
   "metadata": {
    "id": "r627zBO50q1K"
   },
   "source": [
    "**Conclusiones:**\n",
    "Para el plan \"ultimate\" se tiene: mean=410.180 y std=224.745, para el plan \"surf\" se tiene: mean=412.097 y std=216.797. Dado que la media de ambos planes es casi igual y la desviacion estandar tambien, se concluye que no hay variacion significativa en el comportamiento de los usuarios respecto al tiempo que usan en llamadas."
   ]
  },
  {
   "cell_type": "markdown",
   "metadata": {
    "id": "8idKy8Wh0q1L"
   },
   "source": [
    "#### Mensajes"
   ]
  },
  {
   "cell_type": "markdown",
   "metadata": {},
   "source": [
    "Comprara el número de mensajes que tienden a enviar cada mes los usuarios de cada plan"
   ]
  },
  {
   "cell_type": "code",
   "execution_count": 37,
   "metadata": {
    "id": "NXLxiTit0q1L"
   },
   "outputs": [],
   "source": [
    "# Filter DataFrame for each plan and calculate average monthly messages\n",
    "msg_ultimate = df_clean[df_clean['plan_name'] == 'ultimate'][['month','message_date']]\n",
    "msg_ultimate = msg_ultimate.groupby(by='month')['message_date'].mean()\n",
    "\n",
    "msg_surf = df_clean[df_clean['plan_name'] == 'surf'][['month','message_date']]\n",
    "msg_surf = msg_surf.groupby(by='month')['message_date'].mean()"
   ]
  },
  {
   "cell_type": "code",
   "execution_count": 38,
   "metadata": {
    "id": "GRI_R7xF0q1L"
   },
   "outputs": [
    {
     "data": {
      "image/png": "[encoded data removed]",
      "text/plain": [
       "<Figure size 640x480 with 1 Axes>"
      ]
     },
     "metadata": {},
     "output_type": "display_data"
    }
   ],
   "source": [
    "# Concatenate the two DataFrames for ultimate and surf plans\n",
    "msg_plans = pd.concat([msg_ultimate,msg_surf],axis='columns')\n",
    "msg_plans.columns = ['ultimate','surf']\n",
    "\n",
    "# Bar plot\n",
    "msg_plans.plot(kind='bar',title='Numero promedio de mensajes por plan y por mes')\n",
    "plt.xlabel('Meses (0-Ene, 1-Feb)')\n",
    "plt.ylabel('Numero promedio de mensajes')\n",
    "plt.legend(['Ultimate','Surf'])\n",
    "plt.show()"
   ]
  },
  {
   "cell_type": "markdown",
   "metadata": {},
   "source": [
    "Compara el número de mensajes mensuales que necesitan los usuarios de cada plan. Traza un grafico de densidad."
   ]
  },
  {
   "cell_type": "code",
   "execution_count": 39,
   "metadata": {
    "id": "dtFwCGAp0q1M"
   },
   "outputs": [
    {
     "data": {
      "image/png": "[encoded data removed]",
      "text/plain": [
       "<Figure size 640x480 with 1 Axes>"
      ]
     },
     "metadata": {},
     "output_type": "display_data"
    }
   ],
   "source": [
    "# Filter DataFrame by plan and extract message dates\n",
    "msg_ultimate = df_clean[df_clean['plan_name'] == 'ultimate']['message_date']\n",
    "\n",
    "# Density plot for messages\n",
    "msg_ultimate.plot(kind='density',title='Número de mensajes promedio por plan')\n",
    "msg_surf = df_clean[df_clean['plan_name'] == 'surf']['message_date']\n",
    "\n",
    "# Density plot\n",
    "msg_surf.plot(kind='density', alpha=0.7)\n",
    "plt.legend(['Ultimate','Surf'])\n",
    "plt.xlabel('Número de mensajes')\n",
    "plt.ylabel('Densidad')\n",
    "plt.show()"
   ]
  },
  {
   "cell_type": "code",
   "execution_count": 40,
   "metadata": {},
   "outputs": [
    {
     "data": {
      "text/html": [
       "<div>\n",
       "<style scoped>\n",
       "    .dataframe tbody tr th:only-of-type {\n",
       "        vertical-align: middle;\n",
       "    }\n",
       "\n",
       "    .dataframe tbody tr th {\n",
       "        vertical-align: top;\n",
       "    }\n",
       "\n",
       "    .dataframe thead th {\n",
       "        text-align: right;\n",
       "    }\n",
       "</style>\n",
       "<table border=\"1\" class=\"dataframe\">\n",
       "  <thead>\n",
       "    <tr style=\"text-align: right;\">\n",
       "      <th></th>\n",
       "      <th>ultimate</th>\n",
       "      <th>surf</th>\n",
       "    </tr>\n",
       "  </thead>\n",
       "  <tbody>\n",
       "    <tr>\n",
       "      <th>count</th>\n",
       "      <td>12.000000</td>\n",
       "      <td>12.000000</td>\n",
       "    </tr>\n",
       "    <tr>\n",
       "      <th>mean</th>\n",
       "      <td>31.356034</td>\n",
       "      <td>24.556757</td>\n",
       "    </tr>\n",
       "    <tr>\n",
       "      <th>std</th>\n",
       "      <td>9.231372</td>\n",
       "      <td>8.900332</td>\n",
       "    </tr>\n",
       "    <tr>\n",
       "      <th>min</th>\n",
       "      <td>15.500000</td>\n",
       "      <td>10.500000</td>\n",
       "    </tr>\n",
       "    <tr>\n",
       "      <th>25%</th>\n",
       "      <td>22.886905</td>\n",
       "      <td>16.865217</td>\n",
       "    </tr>\n",
       "    <tr>\n",
       "      <th>50%</th>\n",
       "      <td>32.466978</td>\n",
       "      <td>26.153125</td>\n",
       "    </tr>\n",
       "    <tr>\n",
       "      <th>75%</th>\n",
       "      <td>38.503996</td>\n",
       "      <td>30.811603</td>\n",
       "    </tr>\n",
       "    <tr>\n",
       "      <th>max</th>\n",
       "      <td>45.087248</td>\n",
       "      <td>38.212219</td>\n",
       "    </tr>\n",
       "  </tbody>\n",
       "</table>\n",
       "</div>"
      ],
      "text/plain": [
       "        ultimate       surf\n",
       "count  12.000000  12.000000\n",
       "mean   31.356034  24.556757\n",
       "std     9.231372   8.900332\n",
       "min    15.500000  10.500000\n",
       "25%    22.886905  16.865217\n",
       "50%    32.466978  26.153125\n",
       "75%    38.503996  30.811603\n",
       "max    45.087248  38.212219"
      ]
     },
     "execution_count": 40,
     "metadata": {},
     "output_type": "execute_result"
    }
   ],
   "source": [
    "# Show DataFrame descriptive statistics\n",
    "msg_plans.describe()"
   ]
  },
  {
   "cell_type": "code",
   "execution_count": 41,
   "metadata": {},
   "outputs": [
    {
     "data": {
      "image/png": "[encoded data removed]",
      "text/plain": [
       "<Figure size 640x480 with 1 Axes>"
      ]
     },
     "metadata": {},
     "output_type": "display_data"
    }
   ],
   "source": [
    "# Box plot\n",
    "msg_plans.plot(kind='box')\n",
    "plt.title('Distribucion de mensajes por plan')\n",
    "plt.show()"
   ]
  },
  {
   "cell_type": "markdown",
   "metadata": {
    "id": "390SSL480q1M"
   },
   "source": [
    "**Conclusiones:** De manera general sí hay variaciones en el comportamiento de los usuarios respecto al numero de mensajes enviados al mes. Para el plan \"ultimate\" se tiene: mean=31 y std=9, para el plan \"surf\" se tiene: mean=24.5 y std=8.9. Los mensajes enviados con el plan ultimate son 12.8% más que con el plan surf (31.35 / 245 = 1.128). Se concluye que sí hay variación significativa en el comportamiento de los usuarios respecto al numero de mensajes enviados."
   ]
  },
  {
   "cell_type": "markdown",
   "metadata": {
    "id": "42YSypXz0q1M"
   },
   "source": [
    "#### Internet"
   ]
  },
  {
   "cell_type": "markdown",
   "metadata": {},
   "source": [
    "Compara los Mbs promedio usados por cada plan y por cada mes."
   ]
  },
  {
   "cell_type": "code",
   "execution_count": 42,
   "metadata": {
    "id": "lSuKPtjh0q1M"
   },
   "outputs": [],
   "source": [
    "# Filter DataFrame for each plan and calculate average monthly MB used\n",
    "internet_ultimate = df_clean[df_clean['plan_name'] == 'ultimate'][['month','mb_used']]\n",
    "internet_ultimate = internet_ultimate.groupby(by='month')['mb_used'].mean()\n",
    "\n",
    "internet_surf = df_clean[df_clean['plan_name'] == 'surf'][['month','mb_used']]\n",
    "internet_surf = internet_surf.groupby(by='month')['mb_used'].mean()\n",
    "\n",
    "# Concatenate the two DataFrames for ultimate and surf plans\n",
    "df_internet = pd.concat([internet_ultimate,internet_surf],axis='columns')"
   ]
  },
  {
   "cell_type": "code",
   "execution_count": 43,
   "metadata": {
    "id": "5VlyJ9ry0q1N"
   },
   "outputs": [
    {
     "data": {
      "image/png": "[encoded data removed]",
      "text/plain": [
       "<Figure size 640x480 with 1 Axes>"
      ]
     },
     "metadata": {},
     "output_type": "display_data"
    }
   ],
   "source": [
    "# Bar plot\n",
    "df_internet.plot(kind='bar',title='Mbs usados en promedio por plan y por mes')\n",
    "plt.xlabel('Meses (0-Ene, 1-Feb)')\n",
    "plt.ylabel('Internet usado (Mbs)')\n",
    "plt.legend(['Ultimate','Surf'])\n",
    "plt.show()"
   ]
  },
  {
   "cell_type": "markdown",
   "metadata": {},
   "source": [
    "Compara el número de Mbs usados de cada plan. Traza un grafico de densidad."
   ]
  },
  {
   "cell_type": "code",
   "execution_count": 44,
   "metadata": {},
   "outputs": [
    {
     "data": {
      "image/png": "[encoded data removed]",
      "text/plain": [
       "<Figure size 640x480 with 1 Axes>"
      ]
     },
     "metadata": {},
     "output_type": "display_data"
    }
   ],
   "source": [
    "# Filter DataFrame\n",
    "mb_ultimate = df_clean[df_clean['plan_name'] == 'ultimate']['mb_used']\n",
    "mb_surf = df_clean[df_clean['plan_name'] == 'surf']['mb_used']\n",
    "\n",
    "# Density plot\n",
    "mb_ultimate.plot(kind='density',title='Mbs usados promedio por plan')\n",
    "mb_surf.plot(kind='density', alpha=0.7)\n",
    "plt.legend(['Ultimate','Surf'])\n",
    "plt.xlabel('Mbs usados')\n",
    "plt.ylabel('Densidad')\n",
    "plt.show()"
   ]
  },
  {
   "cell_type": "markdown",
   "metadata": {},
   "source": [
    "Calcula la media y la varianza de los Mbs usados."
   ]
  },
  {
   "cell_type": "code",
   "execution_count": 45,
   "metadata": {},
   "outputs": [
    {
     "data": {
      "text/html": [
       "<div>\n",
       "<style scoped>\n",
       "    .dataframe tbody tr th:only-of-type {\n",
       "        vertical-align: middle;\n",
       "    }\n",
       "\n",
       "    .dataframe tbody tr th {\n",
       "        vertical-align: top;\n",
       "    }\n",
       "\n",
       "    .dataframe thead th {\n",
       "        text-align: right;\n",
       "    }\n",
       "</style>\n",
       "<table border=\"1\" class=\"dataframe\">\n",
       "  <thead>\n",
       "    <tr style=\"text-align: right;\">\n",
       "      <th></th>\n",
       "      <th>ultimate</th>\n",
       "      <th>surf</th>\n",
       "    </tr>\n",
       "  </thead>\n",
       "  <tbody>\n",
       "    <tr>\n",
       "      <th>count</th>\n",
       "      <td>713.000000</td>\n",
       "      <td>1545.000000</td>\n",
       "    </tr>\n",
       "    <tr>\n",
       "      <th>mean</th>\n",
       "      <td>17278.003731</td>\n",
       "      <td>16505.727372</td>\n",
       "    </tr>\n",
       "    <tr>\n",
       "      <th>std</th>\n",
       "      <td>7759.655167</td>\n",
       "      <td>7847.816242</td>\n",
       "    </tr>\n",
       "    <tr>\n",
       "      <th>min</th>\n",
       "      <td>290.060000</td>\n",
       "      <td>0.000000</td>\n",
       "    </tr>\n",
       "    <tr>\n",
       "      <th>25%</th>\n",
       "      <td>12707.180000</td>\n",
       "      <td>11986.520000</td>\n",
       "    </tr>\n",
       "    <tr>\n",
       "      <th>50%</th>\n",
       "      <td>16866.450000</td>\n",
       "      <td>16832.090000</td>\n",
       "    </tr>\n",
       "    <tr>\n",
       "      <th>75%</th>\n",
       "      <td>21003.900000</td>\n",
       "      <td>20970.260000</td>\n",
       "    </tr>\n",
       "    <tr>\n",
       "      <th>max</th>\n",
       "      <td>46595.330000</td>\n",
       "      <td>70931.590000</td>\n",
       "    </tr>\n",
       "  </tbody>\n",
       "</table>\n",
       "</div>"
      ],
      "text/plain": [
       "           ultimate          surf\n",
       "count    713.000000   1545.000000\n",
       "mean   17278.003731  16505.727372\n",
       "std     7759.655167   7847.816242\n",
       "min      290.060000      0.000000\n",
       "25%    12707.180000  11986.520000\n",
       "50%    16866.450000  16832.090000\n",
       "75%    21003.900000  20970.260000\n",
       "max    46595.330000  70931.590000"
      ]
     },
     "execution_count": 45,
     "metadata": {},
     "output_type": "execute_result"
    }
   ],
   "source": [
    "# Concatenate dataFrames\n",
    "df_mbs = pd.concat([mb_ultimate,mb_surf],axis='columns')\n",
    "df_mbs.columns = ['ultimate','surf']\n",
    "df_mbs.describe()"
   ]
  },
  {
   "cell_type": "markdown",
   "metadata": {},
   "source": [
    "**Conclusiones:** Para el plan \"ultimate\" se tiene: mean=17278 y std=7759.6, para el plan \"surf\" se tiene: mean=16505.7 y std=7847.8. La media de ambos planes es casi igual y la desviación estandar también, pero el gráfico de barras y el de densidad muestran una variación en la distribución de los Mbs usados, por lo tanto, se concluye que sí hay una ligera variación en el comportamiento de los usuarios respecto a los Mbs usados."
   ]
  },
  {
   "cell_type": "markdown",
   "metadata": {
    "id": "tCijq3260q1N"
   },
   "source": [
    "#### Ingreso"
   ]
  },
  {
   "cell_type": "markdown",
   "metadata": {},
   "source": [
    "Compara el pago promedio por cada plan y por cada mes."
   ]
  },
  {
   "cell_type": "code",
   "execution_count": 46,
   "metadata": {
    "id": "tz-dq_V00q1O"
   },
   "outputs": [],
   "source": [
    "# Filter DataFrame for each plan and calculate average monthly payment\n",
    "df_income_ultimate = df_clean[df_clean['plan_name'] == 'ultimate'][['month','total_pay']]\n",
    "df_income_ultimate = df_income_ultimate.groupby(by='month')['total_pay'].mean()\n",
    "\n",
    "df_income_surf = df_clean[df_clean['plan_name'] == 'surf'][['month','total_pay']]\n",
    "df_income_surf = df_income_surf.groupby(by='month')['total_pay'].mean()"
   ]
  },
  {
   "cell_type": "code",
   "execution_count": 47,
   "metadata": {
    "id": "0Y1v8ZUz0q1P"
   },
   "outputs": [],
   "source": [
    "# Concatenate the two DataFrames for ultimate and surf plans\n",
    "df_payments = pd.concat([df_income_ultimate,df_income_surf],axis='columns')\n",
    "df_payments.columns = ['ultimate','surf']"
   ]
  },
  {
   "cell_type": "code",
   "execution_count": 48,
   "metadata": {
    "id": "bYmwxyVh0q1P"
   },
   "outputs": [
    {
     "data": {
      "image/png": "[encoded data removed]",
      "text/plain": [
       "<Figure size 640x480 with 1 Axes>"
      ]
     },
     "metadata": {},
     "output_type": "display_data"
    }
   ],
   "source": [
    "# Bar plot\n",
    "df_payments.plot(kind='bar',title='Pago promedio por plan y por mes')\n",
    "plt.xlabel('Meses (0-Ene, 1-Feb)')\n",
    "plt.ylabel('Pago promedio (dolares)')\n",
    "plt.legend(['Ultimate','Surf'])\n",
    "plt.show()"
   ]
  },
  {
   "cell_type": "markdown",
   "metadata": {},
   "source": [
    "Compara el pago mensual de cada plan. Traza un grafico de densidad."
   ]
  },
  {
   "cell_type": "code",
   "execution_count": 49,
   "metadata": {},
   "outputs": [
    {
     "data": {
      "image/png": "[encoded data removed]",
      "text/plain": [
       "<Figure size 640x480 with 1 Axes>"
      ]
     },
     "metadata": {},
     "output_type": "display_data"
    }
   ],
   "source": [
    "# Filter DataFrame\n",
    "pay_ultimate = df_clean[df_clean['plan_name'] == 'ultimate']['total_pay']\n",
    "pay_surf = df_clean[df_clean['plan_name'] == 'surf']['total_pay']\n",
    "\n",
    "pay_ultimate.plot(kind='density',title='Pago por cada plan')\n",
    "pay_surf.plot(kind='density', alpha=0.7)\n",
    "plt.legend(['Ultimate','Surf'])\n",
    "plt.xlabel('Pago promedio (dolares)')\n",
    "plt.ylabel('Densidad')\n",
    "plt.show()"
   ]
  },
  {
   "cell_type": "markdown",
   "metadata": {},
   "source": [
    "Traza un diagrama de caja para visualizar la distribución de los ingresos por plan."
   ]
  },
  {
   "cell_type": "code",
   "execution_count": 50,
   "metadata": {},
   "outputs": [
    {
     "data": {
      "image/png": "[encoded data removed]",
      "text/plain": [
       "<Figure size 640x480 with 1 Axes>"
      ]
     },
     "metadata": {},
     "output_type": "display_data"
    }
   ],
   "source": [
    "# Box plot\n",
    "df_payments.plot(kind='box')\n",
    "plt.title('Distribución de los ingresos por plan')\n",
    "plt.show()"
   ]
  },
  {
   "cell_type": "code",
   "execution_count": 51,
   "metadata": {},
   "outputs": [
    {
     "data": {
      "text/html": [
       "<div>\n",
       "<style scoped>\n",
       "    .dataframe tbody tr th:only-of-type {\n",
       "        vertical-align: middle;\n",
       "    }\n",
       "\n",
       "    .dataframe tbody tr th {\n",
       "        vertical-align: top;\n",
       "    }\n",
       "\n",
       "    .dataframe thead th {\n",
       "        text-align: right;\n",
       "    }\n",
       "</style>\n",
       "<table border=\"1\" class=\"dataframe\">\n",
       "  <thead>\n",
       "    <tr style=\"text-align: right;\">\n",
       "      <th></th>\n",
       "      <th>ultimate</th>\n",
       "      <th>surf</th>\n",
       "    </tr>\n",
       "  </thead>\n",
       "  <tbody>\n",
       "    <tr>\n",
       "      <th>count</th>\n",
       "      <td>12.000000</td>\n",
       "      <td>12.000000</td>\n",
       "    </tr>\n",
       "    <tr>\n",
       "      <th>mean</th>\n",
       "      <td>1870.650971</td>\n",
       "      <td>27853.393137</td>\n",
       "    </tr>\n",
       "    <tr>\n",
       "      <th>std</th>\n",
       "      <td>1137.985678</td>\n",
       "      <td>13026.733304</td>\n",
       "    </tr>\n",
       "    <tr>\n",
       "      <th>min</th>\n",
       "      <td>70.000000</td>\n",
       "      <td>20.000000</td>\n",
       "    </tr>\n",
       "    <tr>\n",
       "      <th>25%</th>\n",
       "      <td>1386.759057</td>\n",
       "      <td>22277.421979</td>\n",
       "    </tr>\n",
       "    <tr>\n",
       "      <th>50%</th>\n",
       "      <td>1945.314534</td>\n",
       "      <td>29290.159362</td>\n",
       "    </tr>\n",
       "    <tr>\n",
       "      <th>75%</th>\n",
       "      <td>2837.791197</td>\n",
       "      <td>38872.628340</td>\n",
       "    </tr>\n",
       "    <tr>\n",
       "      <th>max</th>\n",
       "      <td>3543.866667</td>\n",
       "      <td>43556.259243</td>\n",
       "    </tr>\n",
       "  </tbody>\n",
       "</table>\n",
       "</div>"
      ],
      "text/plain": [
       "          ultimate          surf\n",
       "count    12.000000     12.000000\n",
       "mean   1870.650971  27853.393137\n",
       "std    1137.985678  13026.733304\n",
       "min      70.000000     20.000000\n",
       "25%    1386.759057  22277.421979\n",
       "50%    1945.314534  29290.159362\n",
       "75%    2837.791197  38872.628340\n",
       "max    3543.866667  43556.259243"
      ]
     },
     "execution_count": 51,
     "metadata": {},
     "output_type": "execute_result"
    }
   ],
   "source": [
    "# Show DataFrame descriptive statistics\n",
    "df_payments.describe()"
   ]
  },
  {
   "cell_type": "markdown",
   "metadata": {},
   "source": [
    "**Conclusiones:** Para el plan \"ultimate\" se tiene: mean=1870.6 y std=1137.9, para el plan \"surf\" se tiene: mean=27853.3 y std=13026.7. Dado que la media del plan surf es mucho mayor al plan ultimate y la desviación estandar tambien, se concluye que el plan surf genera ganacias significativamente mayores."
   ]
  },
  {
   "cell_type": "markdown",
   "metadata": {
    "id": "ajJ7VKeI0q1Q"
   },
   "source": [
    "### Prueba de hipótesis estadísticas"
   ]
  },
  {
   "cell_type": "markdown",
   "metadata": {
    "id": "AdXAZ-yL0q1Q"
   },
   "source": [
    "La prueba T se usa para determinar si los promedios de 2 muestras son iguales, independientemente si las muestras tienen distribución normal o no. En este análisis se usará la prueba de Levene para complementar la prueba T y se usará un umbral de significación alpha = 5% para ambas pruebas. "
   ]
  },
  {
   "cell_type": "code",
   "execution_count": 52,
   "metadata": {},
   "outputs": [],
   "source": [
    "# Import libraries for statistical tests\n",
    "from scipy import stats as st\n",
    "\n",
    "#Umbral alpha for all tests\n",
    "alpha = 0.05"
   ]
  },
  {
   "cell_type": "markdown",
   "metadata": {
    "id": "IQwa_hsh0q1Q"
   },
   "source": [
    "**Prueba 1.**\n",
    "\n",
    "Hipotesis nula (H0): Ganacias del plan ultimate <= Ganacias del plan surf.\n",
    "\n",
    "Hipotesis alternativa (H1): Ganacias del plan ultimate > Ganacias del plan surf."
   ]
  },
  {
   "cell_type": "code",
   "execution_count": 53,
   "metadata": {
    "id": "nFoPNlPq0q1R"
   },
   "outputs": [],
   "source": [
    "#Extarct samples\n",
    "pay_ultimate = df_clean[df_clean['plan_name'] == 'ultimate']['total_pay']\n",
    "pay_surf = df_clean[df_clean['plan_name'] == 'surf']['total_pay']"
   ]
  },
  {
   "cell_type": "code",
   "execution_count": 54,
   "metadata": {},
   "outputs": [
    {
     "name": "stdout",
     "output_type": "stream",
     "text": [
      "Levene test p-value: 1.612466410385558e-76\n",
      "Variances are different\n",
      "Ultimate sample variance: 120350480.867\n",
      "Surf sample variance: 2722038036.185\n"
     ]
    }
   ],
   "source": [
    "# Verify equal variances (Levene test)\n",
    "levene = st.levene(pay_ultimate, pay_surf)\n",
    "print(\"Levene test p-value:\", levene.pvalue)\n",
    "print(\"Variances are different\" if levene.pvalue < alpha else \"Variances are the same\")\n",
    "\n",
    "# Show samples variances (optional)\n",
    "print(f\"Ultimate sample variance: {np.var(pay_ultimate):.3f}\")\n",
    "print(f\"Surf sample variance: {np.var(pay_surf):.3f}\")\n"
   ]
  },
  {
   "cell_type": "code",
   "execution_count": 55,
   "metadata": {},
   "outputs": [
    {
     "name": "stdout",
     "output_type": "stream",
     "text": [
      "T-test p-value: 1.0\n",
      "H0 cannot be rejected\n"
     ]
    }
   ],
   "source": [
    "# T-test, variances are different, then 'equal_var=False'\n",
    "ttest = st.ttest_ind(pay_ultimate, pay_surf, alternative=\"greater\", equal_var=False)\n",
    "print(\"T-test p-value:\", ttest.pvalue)\n",
    "\n",
    "# Conclusion of T-test\n",
    "print(\"H0 is rejected\" if ttest.pvalue < alpha else \"H0 cannot be rejected\")"
   ]
  },
  {
   "cell_type": "markdown",
   "metadata": {},
   "source": [
    "**Conclusión:** La hipótesis nula (H0) no puede ser rechazada."
   ]
  },
  {
   "cell_type": "markdown",
   "metadata": {},
   "source": [
    "**Prueba 2.**\n",
    "\n",
    "Hipotesis nula (H0): Ganacias promedio del area NY <= Ganacias promedio del area No_NY.\n",
    "\n",
    "Hipotesis alternativa (H1): Ganacias promedio del area NY > Ganacias promedio del area No_NY."
   ]
  },
  {
   "cell_type": "code",
   "execution_count": 56,
   "metadata": {
    "id": "Cqcj7wrZ0q1S"
   },
   "outputs": [],
   "source": [
    "#Extarct samples\n",
    "pay_ny = df_clean[df_clean['city'].str.contains('NY-NJ')]['total_pay']\n",
    "pay_no_ny = df_clean[~df_clean['city'].str.contains('NY-NJ')]['total_pay']"
   ]
  },
  {
   "cell_type": "code",
   "execution_count": 57,
   "metadata": {},
   "outputs": [
    {
     "name": "stdout",
     "output_type": "stream",
     "text": [
      "Levene test p-value: 0.40600817005906387\n",
      "Variances are the same\n",
      "NewYork sample variance: 1765773732.068\n",
      "No NewYork sample variance: 2219110617.310\n"
     ]
    }
   ],
   "source": [
    "# Verify equal variances (Levene test)\n",
    "levene = st.levene(pay_ny, pay_no_ny)\n",
    "print(\"Levene test p-value:\", levene.pvalue)\n",
    "print(\"Variances are different\" if levene.pvalue < alpha else \"Variances are the same\")\n",
    "\n",
    "# Show samples variances (optional)\n",
    "print(f\"NewYork sample variance: {np.var(pay_ny):.3f}\")\n",
    "print(f\"No NewYork sample variance: {np.var(pay_no_ny):.3f}\")"
   ]
  },
  {
   "cell_type": "code",
   "execution_count": 58,
   "metadata": {},
   "outputs": [
    {
     "name": "stdout",
     "output_type": "stream",
     "text": [
      "T-test p-value: 0.20397983674516063\n",
      "H0 cannot be rejected\n"
     ]
    }
   ],
   "source": [
    "# T-test, variances are the same, then 'equal_var=True'\n",
    "ttest = st.ttest_ind(pay_ny, pay_no_ny, alternative=\"greater\", equal_var=True)\n",
    "print(\"T-test p-value:\", ttest.pvalue)\n",
    "\n",
    "# Conclusion of T-test\n",
    "print(\"H0 is rejected\" if ttest.pvalue < alpha else \"H0 cannot be rejected\")"
   ]
  },
  {
   "cell_type": "markdown",
   "metadata": {
    "id": "bbTR8UQO0q1T"
   },
   "source": [
    "## Conclusión general\n",
    "\n",
    "Analizando servicio por servicio, ademas de usar las conlusiones y graficos previos, se observa que en general el comportamiento de los ususarios de cada plan si es significativamente diferente. Luego, al calcular el ingreso promedio mensual, se observa que el ingreso generado por el plan surf es mucho mayor al ingreso del plan ultimate. Finalmente, al hacer la prueba de hipotesis, se determino que nuestra suposicion que \"el ingreso generado por el plan surf es mucho mayor al ingreso del plan ultimate\" es probablemente cierta. De tal manera se concluye que \"el ingreso generado por el plan surf es mucho mayor al ingreso del plan ultimate\"."
   ]
  }
 ],
 "metadata": {
  "ExecuteTimeLog": [
   {
    "duration": 828,
    "start_time": "2021-11-16T09:21:11.304Z"
   },
   {
    "duration": 893,
    "start_time": "2021-11-16T09:21:17.728Z"
   },
   {
    "duration": 1150,
    "start_time": "2021-11-16T09:21:29.568Z"
   },
   {
    "duration": 3,
    "start_time": "2021-11-16T09:24:14.495Z"
   },
   {
    "duration": 120,
    "start_time": "2021-11-16T09:24:46.630Z"
   },
   {
    "duration": 3,
    "start_time": "2021-11-16T09:28:27.882Z"
   },
   {
    "duration": 4,
    "start_time": "2021-11-16T09:29:54.281Z"
   },
   {
    "duration": 3,
    "start_time": "2021-11-16T09:30:45.936Z"
   },
   {
    "duration": 4,
    "start_time": "2021-11-16T09:31:06.300Z"
   },
   {
    "duration": 113,
    "start_time": "2021-11-16T09:31:37.208Z"
   },
   {
    "duration": 143,
    "start_time": "2021-11-16T09:31:48.656Z"
   },
   {
    "duration": 98,
    "start_time": "2021-11-16T09:31:55.678Z"
   },
   {
    "duration": 3,
    "start_time": "2021-11-16T09:32:08.535Z"
   },
   {
    "duration": 111,
    "start_time": "2021-11-16T09:32:10.120Z"
   },
   {
    "duration": 3,
    "start_time": "2021-11-16T09:32:15.732Z"
   },
   {
    "duration": 4,
    "start_time": "2021-11-16T09:32:29.423Z"
   },
   {
    "duration": 3,
    "start_time": "2021-11-16T10:03:03.074Z"
   },
   {
    "duration": 3,
    "start_time": "2021-11-16T10:10:01.288Z"
   },
   {
    "duration": 3,
    "start_time": "2021-11-16T10:10:46.923Z"
   },
   {
    "duration": 121,
    "start_time": "2021-11-16T10:37:46.494Z"
   },
   {
    "duration": 125,
    "start_time": "2021-11-16T10:38:20.632Z"
   },
   {
    "duration": 112,
    "start_time": "2021-11-16T10:46:53.001Z"
   },
   {
    "duration": 110,
    "start_time": "2021-11-16T10:48:25.775Z"
   },
   {
    "duration": 3,
    "start_time": "2021-11-16T10:50:18.720Z"
   },
   {
    "duration": 4,
    "start_time": "2021-11-16T10:50:37.649Z"
   },
   {
    "duration": 2,
    "start_time": "2021-11-16T10:50:51.884Z"
   },
   {
    "duration": 3,
    "start_time": "2021-11-16T10:51:56.237Z"
   },
   {
    "duration": 101,
    "start_time": "2021-11-16T10:53:13.791Z"
   },
   {
    "duration": 3,
    "start_time": "2021-11-16T10:55:59.186Z"
   },
   {
    "duration": 3,
    "start_time": "2021-11-16T10:56:10.751Z"
   },
   {
    "duration": 3,
    "start_time": "2021-11-16T10:56:49.038Z"
   },
   {
    "duration": 3,
    "start_time": "2021-11-16T10:56:49.174Z"
   },
   {
    "duration": 4,
    "start_time": "2021-11-16T10:56:49.414Z"
   },
   {
    "duration": 3,
    "start_time": "2021-11-16T10:56:49.680Z"
   },
   {
    "duration": 3,
    "start_time": "2021-11-16T10:56:50.370Z"
   },
   {
    "duration": 114,
    "start_time": "2021-11-16T10:59:34.518Z"
   },
   {
    "duration": 3,
    "start_time": "2021-11-16T11:01:41.201Z"
   },
   {
    "duration": 116,
    "start_time": "2021-11-16T11:01:48.754Z"
   },
   {
    "duration": 3,
    "start_time": "2021-11-16T11:02:16.685Z"
   },
   {
    "duration": 3,
    "start_time": "2021-11-16T11:02:19.479Z"
   },
   {
    "duration": 3,
    "start_time": "2021-11-16T11:02:47.067Z"
   },
   {
    "duration": 3,
    "start_time": "2021-11-16T11:02:49.353Z"
   },
   {
    "duration": 3,
    "start_time": "2021-11-16T11:03:07.835Z"
   },
   {
    "duration": 3,
    "start_time": "2021-11-16T11:03:07.953Z"
   },
   {
    "duration": 112,
    "start_time": "2021-11-16T11:07:52.072Z"
   },
   {
    "duration": 187,
    "start_time": "2021-11-16T11:09:23.468Z"
   },
   {
    "duration": 4,
    "start_time": "2021-11-16T11:10:01.455Z"
   },
   {
    "duration": 3,
    "start_time": "2021-11-16T11:10:05.069Z"
   },
   {
    "duration": 4,
    "start_time": "2021-11-16T11:10:13.376Z"
   },
   {
    "duration": 3,
    "start_time": "2021-11-16T11:10:14.434Z"
   },
   {
    "duration": 3,
    "start_time": "2021-11-16T11:10:22.853Z"
   },
   {
    "duration": 4,
    "start_time": "2021-11-16T11:27:29.279Z"
   },
   {
    "duration": 4,
    "start_time": "2021-11-16T11:29:08.919Z"
   },
   {
    "duration": 118,
    "start_time": "2021-11-16T11:29:46.703Z"
   },
   {
    "duration": 437,
    "start_time": "2021-11-16T11:36:02.181Z"
   },
   {
    "duration": 157,
    "start_time": "2021-11-16T11:36:14.388Z"
   },
   {
    "duration": 207,
    "start_time": "2021-11-16T11:47:15.898Z"
   },
   {
    "duration": 3,
    "start_time": "2021-11-16T11:53:52.092Z"
   },
   {
    "duration": 3,
    "start_time": "2021-11-16T11:53:52.236Z"
   },
   {
    "duration": 3,
    "start_time": "2021-11-16T11:59:12.005Z"
   },
   {
    "duration": 112,
    "start_time": "2021-11-16T12:00:33.446Z"
   },
   {
    "duration": 3,
    "start_time": "2021-11-16T12:02:14.453Z"
   },
   {
    "duration": 3,
    "start_time": "2021-11-16T12:02:39.512Z"
   },
   {
    "duration": 106,
    "start_time": "2021-11-16T12:03:03.460Z"
   },
   {
    "duration": 3,
    "start_time": "2021-11-17T20:37:21.139Z"
   },
   {
    "duration": 3,
    "start_time": "2021-11-17T20:37:22.229Z"
   },
   {
    "duration": 3,
    "start_time": "2021-11-17T20:38:38.806Z"
   },
   {
    "duration": 3,
    "start_time": "2021-11-17T20:38:41.958Z"
   },
   {
    "duration": 3,
    "start_time": "2021-11-17T20:43:46.551Z"
   },
   {
    "duration": 4,
    "start_time": "2021-11-17T20:58:21.835Z"
   },
   {
    "duration": 3,
    "start_time": "2021-11-17T20:59:21.872Z"
   },
   {
    "duration": 4,
    "start_time": "2021-11-17T20:59:45.352Z"
   },
   {
    "duration": 4,
    "start_time": "2021-11-17T20:59:49.646Z"
   },
   {
    "duration": 159,
    "start_time": "2021-11-17T21:02:26.949Z"
   },
   {
    "duration": 3,
    "start_time": "2021-11-17T21:03:53.461Z"
   },
   {
    "duration": 3,
    "start_time": "2021-11-17T21:03:53.694Z"
   },
   {
    "duration": 3,
    "start_time": "2021-11-17T21:05:28.145Z"
   },
   {
    "duration": 116,
    "start_time": "2021-11-17T21:05:57.787Z"
   },
   {
    "duration": 3,
    "start_time": "2021-11-17T21:06:37.993Z"
   },
   {
    "duration": 3,
    "start_time": "2021-11-17T21:06:38.261Z"
   },
   {
    "duration": 3,
    "start_time": "2021-11-17T21:11:54.358Z"
   },
   {
    "duration": 3,
    "start_time": "2021-11-17T21:12:43.846Z"
   },
   {
    "duration": 4,
    "start_time": "2021-11-17T21:13:08.773Z"
   },
   {
    "duration": 3,
    "start_time": "2021-11-17T21:14:44.441Z"
   },
   {
    "duration": 3,
    "start_time": "2021-11-17T21:15:42.059Z"
   },
   {
    "duration": 4,
    "start_time": "2021-11-17T21:15:51.995Z"
   },
   {
    "duration": 3,
    "start_time": "2021-11-17T21:15:53.923Z"
   },
   {
    "duration": 3,
    "start_time": "2021-11-17T21:15:55.282Z"
   },
   {
    "duration": 3,
    "start_time": "2021-11-17T21:16:28.492Z"
   },
   {
    "duration": 3,
    "start_time": "2021-11-17T21:16:32.603Z"
   },
   {
    "duration": 3,
    "start_time": "2021-11-17T21:17:06.941Z"
   },
   {
    "duration": 98,
    "start_time": "2021-11-17T21:18:05.733Z"
   },
   {
    "duration": 4,
    "start_time": "2021-11-17T21:21:35.255Z"
   },
   {
    "duration": 3,
    "start_time": "2021-11-17T21:21:37.804Z"
   },
   {
    "duration": 4,
    "start_time": "2021-11-17T21:23:06.071Z"
   },
   {
    "duration": 3,
    "start_time": "2021-11-17T21:23:24.799Z"
   },
   {
    "duration": 3,
    "start_time": "2021-11-17T21:23:32.591Z"
   },
   {
    "duration": 98,
    "start_time": "2021-11-17T21:28:31.559Z"
   },
   {
    "duration": 3,
    "start_time": "2021-11-17T21:28:45.448Z"
   },
   {
    "duration": 3,
    "start_time": "2021-11-17T21:29:17.303Z"
   },
   {
    "duration": 3,
    "start_time": "2021-11-17T21:29:29.617Z"
   },
   {
    "duration": 3,
    "start_time": "2021-11-17T21:29:32.681Z"
   },
   {
    "duration": 3,
    "start_time": "2021-11-17T21:36:11.474Z"
   },
   {
    "duration": 3,
    "start_time": "2021-11-17T21:36:14.791Z"
   },
   {
    "duration": 3,
    "start_time": "2021-11-17T21:36:53.943Z"
   },
   {
    "duration": 3,
    "start_time": "2021-11-17T21:36:56.165Z"
   },
   {
    "duration": 4,
    "start_time": "2021-11-17T21:37:16.590Z"
   },
   {
    "duration": 3,
    "start_time": "2021-11-17T21:37:22.702Z"
   },
   {
    "duration": 4,
    "start_time": "2021-11-17T21:38:03.479Z"
   },
   {
    "duration": 3,
    "start_time": "2021-11-17T21:38:08.601Z"
   },
   {
    "duration": 3,
    "start_time": "2021-11-17T21:38:12.928Z"
   },
   {
    "duration": 3,
    "start_time": "2021-11-17T21:38:48.896Z"
   },
   {
    "duration": 2,
    "start_time": "2021-11-17T21:38:49.171Z"
   },
   {
    "duration": 4,
    "start_time": "2021-11-17T21:39:57.889Z"
   },
   {
    "duration": 3,
    "start_time": "2021-11-17T21:39:58.057Z"
   },
   {
    "duration": 3,
    "start_time": "2021-11-17T21:41:20.108Z"
   },
   {
    "duration": 3,
    "start_time": "2021-11-17T21:41:20.629Z"
   },
   {
    "duration": 3,
    "start_time": "2021-11-17T21:42:49.136Z"
   },
   {
    "duration": 3,
    "start_time": "2021-11-17T21:43:15.137Z"
   },
   {
    "duration": 4,
    "start_time": "2021-11-17T21:43:16.766Z"
   },
   {
    "duration": 4,
    "start_time": "2021-11-17T21:43:31.711Z"
   },
   {
    "duration": 3,
    "start_time": "2021-11-17T21:43:36.312Z"
   },
   {
    "duration": 4,
    "start_time": "2021-11-17T21:45:08.825Z"
   },
   {
    "duration": 4,
    "start_time": "2021-11-17T21:45:10.119Z"
   },
   {
    "duration": 4,
    "start_time": "2021-11-17T21:45:13.748Z"
   },
   {
    "duration": 3,
    "start_time": "2021-11-17T21:45:22.219Z"
   },
   {
    "duration": 3,
    "start_time": "2021-11-17T21:45:33.412Z"
   },
   {
    "duration": 2,
    "start_time": "2021-11-17T21:46:01.885Z"
   },
   {
    "duration": 3,
    "start_time": "2021-11-17T21:46:03.628Z"
   },
   {
    "duration": 107,
    "start_time": "2021-11-17T21:47:32.512Z"
   },
   {
    "duration": 103,
    "start_time": "2021-11-17T21:50:36.243Z"
   },
   {
    "duration": 3,
    "start_time": "2021-11-18T06:28:31.440Z"
   },
   {
    "duration": 3,
    "start_time": "2021-11-18T06:29:00.168Z"
   },
   {
    "duration": 3,
    "start_time": "2021-11-18T06:31:27.008Z"
   },
   {
    "duration": 2,
    "start_time": "2021-11-18T06:35:34.288Z"
   },
   {
    "duration": 2,
    "start_time": "2021-11-18T06:38:04.527Z"
   },
   {
    "duration": 301,
    "start_time": "2025-04-08T15:32:39.161Z"
   },
   {
    "duration": 178,
    "start_time": "2025-04-08T15:40:09.776Z"
   },
   {
    "duration": 356,
    "start_time": "2025-04-08T15:40:17.521Z"
   },
   {
    "duration": 59,
    "start_time": "2025-04-08T15:40:34.658Z"
   },
   {
    "duration": 110,
    "start_time": "2025-04-08T15:40:50.364Z"
   },
   {
    "duration": 106,
    "start_time": "2025-04-08T15:43:37.278Z"
   },
   {
    "duration": 85,
    "start_time": "2025-04-08T15:43:57.461Z"
   },
   {
    "duration": 214,
    "start_time": "2025-04-08T15:45:41.623Z"
   },
   {
    "duration": 211,
    "start_time": "2025-04-08T15:50:58.412Z"
   },
   {
    "duration": 11,
    "start_time": "2025-04-08T15:54:38.226Z"
   },
   {
    "duration": 12,
    "start_time": "2025-04-08T15:55:04.237Z"
   },
   {
    "duration": 5,
    "start_time": "2025-04-08T16:01:00.890Z"
   },
   {
    "duration": 8,
    "start_time": "2025-04-08T16:07:28.268Z"
   },
   {
    "duration": 7,
    "start_time": "2025-04-08T16:08:41.900Z"
   },
   {
    "duration": 5,
    "start_time": "2025-04-08T16:10:40.596Z"
   },
   {
    "duration": 5,
    "start_time": "2025-04-08T16:11:04.939Z"
   },
   {
    "duration": 5,
    "start_time": "2025-04-08T16:23:01.586Z"
   },
   {
    "duration": 6,
    "start_time": "2025-04-08T16:30:45.174Z"
   },
   {
    "duration": 110,
    "start_time": "2025-04-08T17:38:24.910Z"
   },
   {
    "duration": 9,
    "start_time": "2025-04-08T17:38:49.506Z"
   },
   {
    "duration": 25,
    "start_time": "2025-04-08T17:42:23.005Z"
   },
   {
    "duration": 9,
    "start_time": "2025-04-08T17:42:42.729Z"
   },
   {
    "duration": 6,
    "start_time": "2025-04-08T17:43:38.821Z"
   },
   {
    "duration": 7,
    "start_time": "2025-04-08T17:51:44.431Z"
   },
   {
    "duration": 25,
    "start_time": "2025-04-08T17:53:22.618Z"
   },
   {
    "duration": 6,
    "start_time": "2025-04-08T17:53:32.866Z"
   },
   {
    "duration": 19,
    "start_time": "2025-04-08T18:02:24.374Z"
   },
   {
    "duration": 626,
    "start_time": "2025-04-08T18:05:27.053Z"
   },
   {
    "duration": 79,
    "start_time": "2025-04-08T18:05:50.043Z"
   },
   {
    "duration": 12,
    "start_time": "2025-04-08T18:09:35.354Z"
   },
   {
    "duration": 66,
    "start_time": "2025-04-08T18:09:55.678Z"
   },
   {
    "duration": 197,
    "start_time": "2025-04-08T18:10:14.186Z"
   },
   {
    "duration": 5,
    "start_time": "2025-04-08T18:10:29.945Z"
   },
   {
    "duration": 12,
    "start_time": "2025-04-08T18:11:18.060Z"
   },
   {
    "duration": 12,
    "start_time": "2025-04-08T18:11:35.046Z"
   },
   {
    "duration": 9,
    "start_time": "2025-04-08T18:12:07.053Z"
   },
   {
    "duration": 7,
    "start_time": "2025-04-08T18:12:21.950Z"
   },
   {
    "duration": 13,
    "start_time": "2025-04-08T18:12:53.213Z"
   },
   {
    "duration": 12,
    "start_time": "2025-04-08T18:13:08.695Z"
   },
   {
    "duration": 9,
    "start_time": "2025-04-08T18:15:18.524Z"
   },
   {
    "duration": 7,
    "start_time": "2025-04-08T18:15:22.515Z"
   },
   {
    "duration": 4,
    "start_time": "2025-04-08T18:17:07.094Z"
   },
   {
    "duration": 5,
    "start_time": "2025-04-08T18:17:22.695Z"
   },
   {
    "duration": 10,
    "start_time": "2025-04-08T18:18:27.250Z"
   },
   {
    "duration": 251,
    "start_time": "2025-04-08T18:45:13.384Z"
   },
   {
    "duration": 14,
    "start_time": "2025-04-08T18:45:37.095Z"
   },
   {
    "duration": 18,
    "start_time": "2025-04-08T18:48:34.379Z"
   },
   {
    "duration": 24,
    "start_time": "2025-04-08T18:51:39.398Z"
   },
   {
    "duration": 24,
    "start_time": "2025-04-08T18:52:03.539Z"
   },
   {
    "duration": 24,
    "start_time": "2025-04-08T18:52:10.149Z"
   },
   {
    "duration": 5,
    "start_time": "2025-04-08T18:53:51.536Z"
   },
   {
    "duration": 24,
    "start_time": "2025-04-08T18:54:40.124Z"
   },
   {
    "duration": 177,
    "start_time": "2025-04-08T18:55:08.595Z"
   },
   {
    "duration": 9,
    "start_time": "2025-04-08T18:57:19.694Z"
   },
   {
    "duration": 6,
    "start_time": "2025-04-08T18:57:46.224Z"
   },
   {
    "duration": 9,
    "start_time": "2025-04-08T18:58:57.105Z"
   },
   {
    "duration": 5,
    "start_time": "2025-04-08T18:59:14.218Z"
   },
   {
    "duration": 6,
    "start_time": "2025-04-08T19:02:20.270Z"
   },
   {
    "duration": 7,
    "start_time": "2025-04-08T19:03:40.165Z"
   },
   {
    "duration": 93,
    "start_time": "2025-04-08T19:04:20.385Z"
   },
   {
    "duration": 9,
    "start_time": "2025-04-08T19:05:12.629Z"
   },
   {
    "duration": 5,
    "start_time": "2025-04-08T19:05:35.161Z"
   },
   {
    "duration": 19,
    "start_time": "2025-04-08T19:06:24.972Z"
   },
   {
    "duration": 5,
    "start_time": "2025-04-08T19:06:30.612Z"
   },
   {
    "duration": 23,
    "start_time": "2025-04-08T19:07:36.925Z"
   },
   {
    "duration": 15,
    "start_time": "2025-04-08T19:08:12.630Z"
   },
   {
    "duration": 8,
    "start_time": "2025-04-08T19:08:54.422Z"
   },
   {
    "duration": 11,
    "start_time": "2025-04-08T19:09:39.551Z"
   },
   {
    "duration": 8,
    "start_time": "2025-04-08T19:10:14.442Z"
   },
   {
    "duration": 18,
    "start_time": "2025-04-08T19:10:34.741Z"
   },
   {
    "duration": 5,
    "start_time": "2025-04-08T19:11:04.556Z"
   },
   {
    "duration": 18,
    "start_time": "2025-04-08T19:11:59.241Z"
   },
   {
    "duration": 10,
    "start_time": "2025-04-08T19:12:32.296Z"
   },
   {
    "duration": 7,
    "start_time": "2025-04-08T19:13:26.720Z"
   },
   {
    "duration": 16,
    "start_time": "2025-04-08T19:14:19.538Z"
   },
   {
    "duration": 9,
    "start_time": "2025-04-08T19:15:39.866Z"
   },
   {
    "duration": 2,
    "start_time": "2025-04-08T19:15:56.983Z"
   },
   {
    "duration": 2,
    "start_time": "2025-04-08T19:16:00.834Z"
   },
   {
    "duration": 7,
    "start_time": "2025-04-08T19:17:00.021Z"
   },
   {
    "duration": 7,
    "start_time": "2025-04-08T19:20:20.243Z"
   },
   {
    "duration": 8,
    "start_time": "2025-04-08T19:20:35.029Z"
   },
   {
    "duration": 18,
    "start_time": "2025-04-08T19:21:02.990Z"
   },
   {
    "duration": 17,
    "start_time": "2025-04-08T19:24:35.313Z"
   },
   {
    "duration": 39,
    "start_time": "2025-04-08T19:52:52.810Z"
   },
   {
    "duration": 12,
    "start_time": "2025-04-08T19:53:02.093Z"
   },
   {
    "duration": 13,
    "start_time": "2025-04-08T19:55:06.537Z"
   },
   {
    "duration": 64,
    "start_time": "2025-04-08T20:03:17.317Z"
   },
   {
    "duration": 202,
    "start_time": "2025-04-08T20:04:16.253Z"
   },
   {
    "duration": 2,
    "start_time": "2025-04-08T20:04:34.543Z"
   },
   {
    "duration": 43,
    "start_time": "2025-04-08T20:05:00.205Z"
   },
   {
    "duration": 19,
    "start_time": "2025-04-08T20:05:36.695Z"
   },
   {
    "duration": 27,
    "start_time": "2025-04-08T20:06:17.915Z"
   },
   {
    "duration": 24,
    "start_time": "2025-04-08T20:10:27.283Z"
   },
   {
    "duration": 12,
    "start_time": "2025-04-08T20:12:14.298Z"
   },
   {
    "duration": 14,
    "start_time": "2025-04-08T20:17:34.726Z"
   },
   {
    "duration": 16,
    "start_time": "2025-04-08T20:17:45.270Z"
   },
   {
    "duration": 15,
    "start_time": "2025-04-08T20:18:08.087Z"
   },
   {
    "duration": 28,
    "start_time": "2025-04-08T20:18:24.259Z"
   },
   {
    "duration": 29,
    "start_time": "2025-04-08T20:18:39.785Z"
   },
   {
    "duration": 17,
    "start_time": "2025-04-08T20:19:01.924Z"
   },
   {
    "duration": 19,
    "start_time": "2025-04-08T20:19:30.740Z"
   },
   {
    "duration": 39,
    "start_time": "2025-04-08T20:20:07.077Z"
   },
   {
    "duration": 37,
    "start_time": "2025-04-08T20:20:16.014Z"
   },
   {
    "duration": 41,
    "start_time": "2025-04-08T20:24:09.416Z"
   },
   {
    "duration": 25,
    "start_time": "2025-04-08T20:27:24.974Z"
   },
   {
    "duration": 14,
    "start_time": "2025-04-08T20:27:30.592Z"
   },
   {
    "duration": 15,
    "start_time": "2025-04-08T20:28:31.006Z"
   },
   {
    "duration": 20,
    "start_time": "2025-04-08T20:28:41.758Z"
   },
   {
    "duration": 24,
    "start_time": "2025-04-08T20:29:05.280Z"
   },
   {
    "duration": 14,
    "start_time": "2025-04-08T20:29:23.054Z"
   },
   {
    "duration": 28,
    "start_time": "2025-04-08T20:30:16.388Z"
   },
   {
    "duration": 15,
    "start_time": "2025-04-08T21:37:49.495Z"
   },
   {
    "duration": 20,
    "start_time": "2025-04-08T21:38:44.539Z"
   },
   {
    "duration": 18,
    "start_time": "2025-04-08T21:40:49.580Z"
   },
   {
    "duration": 18,
    "start_time": "2025-04-08T21:43:47.883Z"
   },
   {
    "duration": 18,
    "start_time": "2025-04-08T21:43:51.529Z"
   },
   {
    "duration": 19,
    "start_time": "2025-04-08T21:44:05.158Z"
   },
   {
    "duration": 24,
    "start_time": "2025-04-08T21:44:12.650Z"
   },
   {
    "duration": 11,
    "start_time": "2025-04-08T21:44:19.291Z"
   },
   {
    "duration": 14,
    "start_time": "2025-04-08T21:46:03.489Z"
   },
   {
    "duration": 11,
    "start_time": "2025-04-08T21:46:10.463Z"
   },
   {
    "duration": 24,
    "start_time": "2025-04-08T21:46:21.737Z"
   },
   {
    "duration": 12,
    "start_time": "2025-04-08T21:46:24.753Z"
   },
   {
    "duration": 17,
    "start_time": "2025-04-08T22:01:52.012Z"
   },
   {
    "duration": 23,
    "start_time": "2025-04-08T22:02:06.998Z"
   },
   {
    "duration": 11,
    "start_time": "2025-04-08T22:03:47.678Z"
   },
   {
    "duration": 11,
    "start_time": "2025-04-08T22:15:42.989Z"
   },
   {
    "duration": 73,
    "start_time": "2025-04-08T22:41:03.382Z"
   },
   {
    "duration": 103,
    "start_time": "2025-04-08T22:41:28.439Z"
   },
   {
    "duration": 57,
    "start_time": "2025-04-08T22:48:21.514Z"
   },
   {
    "duration": 57,
    "start_time": "2025-04-08T22:48:24.924Z"
   },
   {
    "duration": 59,
    "start_time": "2025-04-08T22:49:01.290Z"
   },
   {
    "duration": 61,
    "start_time": "2025-04-08T22:50:08.982Z"
   },
   {
    "duration": 10,
    "start_time": "2025-04-08T23:51:23.958Z"
   },
   {
    "duration": 19,
    "start_time": "2025-04-08T23:52:10.318Z"
   },
   {
    "duration": 10,
    "start_time": "2025-04-08T23:53:05.463Z"
   },
   {
    "duration": 11,
    "start_time": "2025-04-09T00:08:16.551Z"
   },
   {
    "duration": 16,
    "start_time": "2025-04-09T01:36:16.539Z"
   },
   {
    "duration": 13,
    "start_time": "2025-04-09T01:36:53.705Z"
   },
   {
    "duration": 11,
    "start_time": "2025-04-09T01:37:20.197Z"
   },
   {
    "duration": 10,
    "start_time": "2025-04-09T01:37:43.222Z"
   },
   {
    "duration": 35,
    "start_time": "2025-04-09T01:38:28.275Z"
   },
   {
    "duration": 13,
    "start_time": "2025-04-09T01:40:50.556Z"
   },
   {
    "duration": 9,
    "start_time": "2025-04-09T01:41:13.458Z"
   },
   {
    "duration": 8,
    "start_time": "2025-04-09T01:42:53.119Z"
   },
   {
    "duration": 9,
    "start_time": "2025-04-09T01:43:00.078Z"
   },
   {
    "duration": 18,
    "start_time": "2025-04-09T01:43:32.229Z"
   },
   {
    "duration": 20,
    "start_time": "2025-04-09T01:43:50.746Z"
   },
   {
    "duration": 16,
    "start_time": "2025-04-09T01:44:40.182Z"
   },
   {
    "duration": 23,
    "start_time": "2025-04-09T01:45:20.091Z"
   },
   {
    "duration": 20,
    "start_time": "2025-04-09T01:45:33.659Z"
   },
   {
    "duration": 24,
    "start_time": "2025-04-09T01:45:52.498Z"
   },
   {
    "duration": 23,
    "start_time": "2025-04-09T01:48:03.751Z"
   },
   {
    "duration": 21,
    "start_time": "2025-04-09T01:48:26.412Z"
   },
   {
    "duration": 12,
    "start_time": "2025-04-09T01:49:45.241Z"
   },
   {
    "duration": 12,
    "start_time": "2025-04-09T01:51:50.180Z"
   },
   {
    "duration": 12,
    "start_time": "2025-04-09T01:53:00.533Z"
   },
   {
    "duration": 11,
    "start_time": "2025-04-09T01:53:43.486Z"
   },
   {
    "duration": 60,
    "start_time": "2025-04-09T01:54:26.244Z"
   },
   {
    "duration": 6,
    "start_time": "2025-04-09T02:00:25.451Z"
   },
   {
    "duration": 1921,
    "start_time": "2025-04-09T02:07:07.697Z"
   },
   {
    "duration": 9,
    "start_time": "2025-04-09T02:08:47.176Z"
   },
   {
    "duration": 6,
    "start_time": "2025-04-09T02:10:38.396Z"
   },
   {
    "duration": 9,
    "start_time": "2025-04-09T02:13:35.386Z"
   },
   {
    "duration": 116,
    "start_time": "2025-04-09T02:16:44.717Z"
   },
   {
    "duration": 9,
    "start_time": "2025-04-09T02:17:06.900Z"
   },
   {
    "duration": 10,
    "start_time": "2025-04-09T02:22:42.336Z"
   },
   {
    "duration": 7,
    "start_time": "2025-04-09T02:24:23.055Z"
   },
   {
    "duration": 7,
    "start_time": "2025-04-09T02:25:47.553Z"
   },
   {
    "duration": 6,
    "start_time": "2025-04-09T02:26:11.305Z"
   },
   {
    "duration": 2,
    "start_time": "2025-04-09T02:26:25.124Z"
   },
   {
    "duration": 6,
    "start_time": "2025-04-09T02:26:27.749Z"
   },
   {
    "duration": 5,
    "start_time": "2025-04-09T02:27:07.647Z"
   },
   {
    "duration": 6,
    "start_time": "2025-04-09T02:27:13.663Z"
   },
   {
    "duration": 8,
    "start_time": "2025-04-09T02:27:19.521Z"
   },
   {
    "duration": 7,
    "start_time": "2025-04-09T02:27:36.506Z"
   },
   {
    "duration": 11,
    "start_time": "2025-04-09T02:28:51.666Z"
   },
   {
    "duration": 8,
    "start_time": "2025-04-09T02:29:06.934Z"
   },
   {
    "duration": 8,
    "start_time": "2025-04-09T02:30:27.898Z"
   },
   {
    "duration": 8,
    "start_time": "2025-04-09T02:31:46.883Z"
   },
   {
    "duration": 9,
    "start_time": "2025-04-09T02:31:50.918Z"
   },
   {
    "duration": 13,
    "start_time": "2025-04-09T02:33:00.696Z"
   },
   {
    "duration": 11,
    "start_time": "2025-04-09T02:33:42.384Z"
   },
   {
    "duration": 9,
    "start_time": "2025-04-09T02:35:02.534Z"
   },
   {
    "duration": 15,
    "start_time": "2025-04-09T02:36:45.061Z"
   },
   {
    "duration": 4,
    "start_time": "2025-04-09T02:36:54.688Z"
   },
   {
    "duration": 4,
    "start_time": "2025-04-09T02:37:04.789Z"
   },
   {
    "duration": 163,
    "start_time": "2025-04-09T02:37:16.245Z"
   },
   {
    "duration": 154,
    "start_time": "2025-04-09T02:39:45.697Z"
   },
   {
    "duration": 155,
    "start_time": "2025-04-09T02:41:03.733Z"
   },
   {
    "duration": 8,
    "start_time": "2025-04-09T02:46:01.470Z"
   },
   {
    "duration": 145,
    "start_time": "2025-04-09T02:46:21.724Z"
   },
   {
    "duration": 29,
    "start_time": "2025-04-09T02:46:34.061Z"
   },
   {
    "duration": 8,
    "start_time": "2025-04-09T02:47:20.208Z"
   },
   {
    "duration": 3,
    "start_time": "2025-04-09T02:47:22.917Z"
   },
   {
    "duration": 157,
    "start_time": "2025-04-09T02:47:30.746Z"
   },
   {
    "duration": 4,
    "start_time": "2025-04-09T02:54:02.697Z"
   },
   {
    "duration": 8,
    "start_time": "2025-04-09T02:55:07.147Z"
   },
   {
    "duration": 150,
    "start_time": "2025-04-09T03:03:19.341Z"
   },
   {
    "duration": 1554,
    "start_time": "2025-04-09T03:04:11.555Z"
   },
   {
    "duration": 288,
    "start_time": "2025-04-09T03:04:24.537Z"
   },
   {
    "duration": 169,
    "start_time": "2025-04-09T03:06:24.278Z"
   },
   {
    "duration": 329,
    "start_time": "2025-04-09T03:06:30.637Z"
   },
   {
    "duration": 178,
    "start_time": "2025-04-09T03:07:32.359Z"
   },
   {
    "duration": 173,
    "start_time": "2025-04-09T03:07:45.686Z"
   },
   {
    "duration": 368,
    "start_time": "2025-04-09T03:13:53.002Z"
   },
   {
    "duration": 9,
    "start_time": "2025-04-11T13:50:46.095Z"
   },
   {
    "duration": 4,
    "start_time": "2025-04-11T13:55:34.714Z"
   },
   {
    "duration": 155,
    "start_time": "2025-04-11T13:55:47.868Z"
   },
   {
    "duration": 158,
    "start_time": "2025-04-11T13:57:52.168Z"
   },
   {
    "duration": 147,
    "start_time": "2025-04-11T13:58:13.143Z"
   },
   {
    "duration": 7,
    "start_time": "2025-04-11T14:03:19.978Z"
   },
   {
    "duration": 16,
    "start_time": "2025-04-11T14:04:43.298Z"
   },
   {
    "duration": 13,
    "start_time": "2025-04-11T14:04:49.888Z"
   },
   {
    "duration": 12,
    "start_time": "2025-04-11T14:05:32.124Z"
   },
   {
    "duration": 82,
    "start_time": "2025-04-11T14:35:26.905Z"
   },
   {
    "duration": 161,
    "start_time": "2025-04-11T14:37:30.231Z"
   },
   {
    "duration": 8,
    "start_time": "2025-04-11T16:02:54.039Z"
   },
   {
    "duration": 157,
    "start_time": "2025-04-11T16:04:37.473Z"
   },
   {
    "duration": 166,
    "start_time": "2025-04-11T16:05:57.300Z"
   },
   {
    "duration": 11,
    "start_time": "2025-04-11T16:06:17.604Z"
   },
   {
    "duration": 11,
    "start_time": "2025-04-11T16:08:24.094Z"
   },
   {
    "duration": 160,
    "start_time": "2025-04-11T16:08:46.969Z"
   },
   {
    "duration": 9,
    "start_time": "2025-04-11T16:33:08.573Z"
   },
   {
    "duration": 333,
    "start_time": "2025-04-12T21:16:12.881Z"
   },
   {
    "duration": 216,
    "start_time": "2025-04-12T21:16:15.266Z"
   },
   {
    "duration": 9,
    "start_time": "2025-04-12T21:16:19.708Z"
   },
   {
    "duration": 7,
    "start_time": "2025-04-12T21:16:41.969Z"
   },
   {
    "duration": 10,
    "start_time": "2025-04-12T21:19:24.443Z"
   },
   {
    "duration": 9,
    "start_time": "2025-04-12T21:20:45.726Z"
   },
   {
    "duration": 6,
    "start_time": "2025-04-12T21:20:48.790Z"
   },
   {
    "duration": 6,
    "start_time": "2025-04-12T21:22:17.932Z"
   },
   {
    "duration": 7,
    "start_time": "2025-04-12T21:22:33.005Z"
   },
   {
    "duration": 8,
    "start_time": "2025-04-12T21:24:51.769Z"
   },
   {
    "duration": 16,
    "start_time": "2025-04-12T21:24:58.900Z"
   },
   {
    "duration": 16,
    "start_time": "2025-04-12T21:28:00.515Z"
   },
   {
    "duration": 4,
    "start_time": "2025-04-12T21:29:14.497Z"
   },
   {
    "duration": 6,
    "start_time": "2025-04-12T21:30:51.096Z"
   },
   {
    "duration": 17,
    "start_time": "2025-04-12T21:33:22.020Z"
   },
   {
    "duration": 11,
    "start_time": "2025-04-12T21:33:58.419Z"
   },
   {
    "duration": 16,
    "start_time": "2025-04-12T21:34:49.678Z"
   },
   {
    "duration": 11,
    "start_time": "2025-04-12T21:34:55.584Z"
   },
   {
    "duration": 450,
    "start_time": "2025-04-12T21:35:10.758Z"
   },
   {
    "duration": 17,
    "start_time": "2025-04-12T21:35:30.797Z"
   },
   {
    "duration": 8,
    "start_time": "2025-04-12T21:35:33.596Z"
   },
   {
    "duration": 12,
    "start_time": "2025-04-12T21:35:42.705Z"
   },
   {
    "duration": 13,
    "start_time": "2025-04-12T21:36:38.573Z"
   },
   {
    "duration": 13,
    "start_time": "2025-04-12T21:37:17.251Z"
   },
   {
    "duration": 6,
    "start_time": "2025-04-12T21:37:31.272Z"
   },
   {
    "duration": 12,
    "start_time": "2025-04-12T21:38:30.595Z"
   },
   {
    "duration": 9,
    "start_time": "2025-04-12T21:39:49.997Z"
   },
   {
    "duration": 14,
    "start_time": "2025-04-12T21:40:02.889Z"
   },
   {
    "duration": 15,
    "start_time": "2025-04-12T21:41:50.344Z"
   },
   {
    "duration": 4,
    "start_time": "2025-04-12T21:42:10.911Z"
   },
   {
    "duration": 13,
    "start_time": "2025-04-12T21:43:40.704Z"
   },
   {
    "duration": 9,
    "start_time": "2025-04-12T21:43:47.056Z"
   },
   {
    "duration": 5,
    "start_time": "2025-04-12T21:44:32.926Z"
   },
   {
    "duration": 16,
    "start_time": "2025-04-12T21:46:15.529Z"
   },
   {
    "duration": 13,
    "start_time": "2025-04-12T21:46:29.319Z"
   },
   {
    "duration": 8,
    "start_time": "2025-04-12T21:46:37.603Z"
   },
   {
    "duration": 16,
    "start_time": "2025-04-12T21:49:01.407Z"
   },
   {
    "duration": 12,
    "start_time": "2025-04-12T21:49:18.724Z"
   },
   {
    "duration": 10,
    "start_time": "2025-04-12T21:49:35.114Z"
   },
   {
    "duration": 28,
    "start_time": "2025-04-12T21:51:21.687Z"
   },
   {
    "duration": 24,
    "start_time": "2025-04-12T21:56:42.144Z"
   },
   {
    "duration": 19,
    "start_time": "2025-04-12T21:57:37.728Z"
   },
   {
    "duration": 23,
    "start_time": "2025-04-12T21:58:01.100Z"
   },
   {
    "duration": 18,
    "start_time": "2025-04-12T21:58:09.262Z"
   },
   {
    "duration": 18,
    "start_time": "2025-04-12T21:58:53.555Z"
   },
   {
    "duration": 19,
    "start_time": "2025-04-12T21:59:47.221Z"
   },
   {
    "duration": 17,
    "start_time": "2025-04-12T22:00:06.632Z"
   },
   {
    "duration": 21,
    "start_time": "2025-04-12T22:00:13.078Z"
   },
   {
    "duration": 18,
    "start_time": "2025-04-12T22:02:55.792Z"
   },
   {
    "duration": 20,
    "start_time": "2025-04-12T22:05:31.786Z"
   },
   {
    "duration": 4,
    "start_time": "2025-04-12T22:05:47.941Z"
   },
   {
    "duration": 3,
    "start_time": "2025-04-12T22:05:52.733Z"
   },
   {
    "duration": 3,
    "start_time": "2025-04-12T22:06:04.350Z"
   },
   {
    "duration": 21,
    "start_time": "2025-04-12T22:06:07.117Z"
   },
   {
    "duration": 4,
    "start_time": "2025-04-12T22:06:38.178Z"
   },
   {
    "duration": 20,
    "start_time": "2025-04-12T22:07:11.371Z"
   },
   {
    "duration": 10,
    "start_time": "2025-04-12T22:07:59.770Z"
   },
   {
    "duration": 11,
    "start_time": "2025-04-12T22:08:38.133Z"
   },
   {
    "duration": 61,
    "start_time": "2025-04-12T22:10:35.473Z"
   },
   {
    "duration": 67,
    "start_time": "2025-04-12T22:11:20.644Z"
   },
   {
    "duration": 59,
    "start_time": "2025-04-12T22:11:33.194Z"
   },
   {
    "duration": 59,
    "start_time": "2025-04-12T22:28:29.591Z"
   },
   {
    "duration": 2000,
    "start_time": "2025-04-12T22:36:27.063Z"
   },
   {
    "duration": 3,
    "start_time": "2025-04-12T22:37:11.830Z"
   },
   {
    "duration": 5,
    "start_time": "2025-04-12T22:37:41.453Z"
   },
   {
    "duration": 168,
    "start_time": "2025-04-12T22:37:59.632Z"
   },
   {
    "duration": 172,
    "start_time": "2025-04-12T22:40:20.580Z"
   },
   {
    "duration": 18,
    "start_time": "2025-04-12T22:43:03.284Z"
   },
   {
    "duration": 23,
    "start_time": "2025-04-12T22:43:43.821Z"
   },
   {
    "duration": 16,
    "start_time": "2025-04-12T22:43:50.315Z"
   },
   {
    "duration": 160,
    "start_time": "2025-04-12T22:44:55.115Z"
   },
   {
    "duration": 165,
    "start_time": "2025-04-12T22:45:10.611Z"
   },
   {
    "duration": 13,
    "start_time": "2025-04-12T22:45:20.747Z"
   },
   {
    "duration": 172,
    "start_time": "2025-04-12T22:46:15.056Z"
   },
   {
    "duration": 8,
    "start_time": "2025-04-12T22:54:45.891Z"
   },
   {
    "duration": 158,
    "start_time": "2025-04-12T22:55:00.817Z"
   },
   {
    "duration": 14,
    "start_time": "2025-04-12T22:55:14.865Z"
   },
   {
    "duration": 162,
    "start_time": "2025-04-12T22:56:38.956Z"
   },
   {
    "duration": 11,
    "start_time": "2025-04-12T22:59:09.961Z"
   },
   {
    "duration": 10,
    "start_time": "2025-04-12T22:59:33.689Z"
   },
   {
    "duration": 738,
    "start_time": "2025-04-12T23:00:44.359Z"
   },
   {
    "duration": 11,
    "start_time": "2025-04-12T23:08:49.678Z"
   },
   {
    "duration": 310,
    "start_time": "2025-04-12T23:09:12.376Z"
   },
   {
    "duration": 317,
    "start_time": "2025-04-12T23:10:18.278Z"
   },
   {
    "duration": 311,
    "start_time": "2025-04-12T23:10:29.767Z"
   },
   {
    "duration": 11,
    "start_time": "2025-04-12T23:11:11.685Z"
   },
   {
    "duration": 169,
    "start_time": "2025-04-12T23:11:40.907Z"
   },
   {
    "duration": 8,
    "start_time": "2025-04-12T23:14:01.361Z"
   },
   {
    "duration": 3,
    "start_time": "2025-04-12T23:14:29.501Z"
   },
   {
    "duration": 164,
    "start_time": "2025-04-12T23:15:53.332Z"
   },
   {
    "duration": 170,
    "start_time": "2025-04-12T23:18:56.658Z"
   },
   {
    "duration": 258,
    "start_time": "2025-04-12T23:19:59.341Z"
   },
   {
    "duration": 13,
    "start_time": "2025-04-12T23:31:47.809Z"
   },
   {
    "duration": 12,
    "start_time": "2025-04-12T23:31:52.694Z"
   },
   {
    "duration": 7,
    "start_time": "2025-04-12T23:49:31.839Z"
   },
   {
    "duration": 3,
    "start_time": "2025-04-12T23:50:11.191Z"
   },
   {
    "duration": 169,
    "start_time": "2025-04-12T23:51:04.691Z"
   },
   {
    "duration": 11,
    "start_time": "2025-04-12T23:53:13.260Z"
   },
   {
    "duration": 9,
    "start_time": "2025-04-13T00:00:04.182Z"
   },
   {
    "duration": 8,
    "start_time": "2025-04-13T00:02:22.598Z"
   },
   {
    "duration": 4,
    "start_time": "2025-04-13T00:02:24.065Z"
   },
   {
    "duration": 180,
    "start_time": "2025-04-13T00:02:28.084Z"
   },
   {
    "duration": 253,
    "start_time": "2025-04-13T00:04:31.439Z"
   },
   {
    "duration": 9,
    "start_time": "2025-04-13T00:08:27.839Z"
   },
   {
    "duration": 4,
    "start_time": "2025-04-13T00:08:31.638Z"
   },
   {
    "duration": 266,
    "start_time": "2025-04-13T00:08:34.949Z"
   },
   {
    "duration": 8,
    "start_time": "2025-04-13T00:09:18.974Z"
   },
   {
    "duration": 5,
    "start_time": "2025-04-13T00:09:20.567Z"
   },
   {
    "duration": 4,
    "start_time": "2025-04-13T00:09:24.662Z"
   },
   {
    "duration": 157,
    "start_time": "2025-04-13T00:09:25.997Z"
   },
   {
    "duration": 8,
    "start_time": "2025-04-13T00:11:46.503Z"
   },
   {
    "duration": 4,
    "start_time": "2025-04-13T00:11:49.203Z"
   },
   {
    "duration": 170,
    "start_time": "2025-04-13T00:11:50.970Z"
   },
   {
    "duration": 316,
    "start_time": "2025-04-13T00:12:31.995Z"
   },
   {
    "duration": 11,
    "start_time": "2025-04-13T00:12:47.244Z"
   },
   {
    "duration": 13,
    "start_time": "2025-04-13T00:14:24.799Z"
   },
   {
    "duration": 12,
    "start_time": "2025-04-13T00:18:04.664Z"
   },
   {
    "duration": 157,
    "start_time": "2025-04-13T00:18:37.385Z"
   },
   {
    "duration": 335,
    "start_time": "2025-04-13T18:57:50.247Z"
   },
   {
    "duration": 217,
    "start_time": "2025-04-13T18:57:54.355Z"
   },
   {
    "duration": 9,
    "start_time": "2025-04-13T18:57:59.032Z"
   },
   {
    "duration": 6,
    "start_time": "2025-04-13T18:58:03.060Z"
   },
   {
    "duration": 9,
    "start_time": "2025-04-13T18:58:55.882Z"
   },
   {
    "duration": 5,
    "start_time": "2025-04-13T18:59:02.562Z"
   },
   {
    "duration": 5,
    "start_time": "2025-04-13T18:59:39.509Z"
   },
   {
    "duration": 8,
    "start_time": "2025-04-13T19:02:03.391Z"
   },
   {
    "duration": 16,
    "start_time": "2025-04-13T19:02:17.744Z"
   },
   {
    "duration": 4,
    "start_time": "2025-04-13T19:02:25.616Z"
   },
   {
    "duration": 15,
    "start_time": "2025-04-13T19:02:42.947Z"
   },
   {
    "duration": 8,
    "start_time": "2025-04-13T19:02:44.807Z"
   },
   {
    "duration": 12,
    "start_time": "2025-04-13T19:02:48.566Z"
   },
   {
    "duration": 5,
    "start_time": "2025-04-13T19:02:53.648Z"
   },
   {
    "duration": 10,
    "start_time": "2025-04-13T19:03:27.113Z"
   },
   {
    "duration": 8,
    "start_time": "2025-04-13T19:03:30.507Z"
   },
   {
    "duration": 7,
    "start_time": "2025-04-13T19:04:51.431Z"
   },
   {
    "duration": 14,
    "start_time": "2025-04-13T19:04:54.305Z"
   },
   {
    "duration": 5,
    "start_time": "2025-04-13T19:05:06.425Z"
   },
   {
    "duration": 12,
    "start_time": "2025-04-13T19:05:24.029Z"
   },
   {
    "duration": 10,
    "start_time": "2025-04-13T19:05:32.594Z"
   },
   {
    "duration": 5,
    "start_time": "2025-04-13T19:06:11.623Z"
   },
   {
    "duration": 15,
    "start_time": "2025-04-13T19:06:38.542Z"
   },
   {
    "duration": 15,
    "start_time": "2025-04-13T19:07:33.024Z"
   },
   {
    "duration": 12,
    "start_time": "2025-04-13T19:07:41.732Z"
   },
   {
    "duration": 7,
    "start_time": "2025-04-13T19:07:48.665Z"
   },
   {
    "duration": 9,
    "start_time": "2025-04-13T19:07:59.229Z"
   },
   {
    "duration": 23,
    "start_time": "2025-04-13T19:08:28.704Z"
   },
   {
    "duration": 10,
    "start_time": "2025-04-13T19:09:05.490Z"
   },
   {
    "duration": 10,
    "start_time": "2025-04-13T19:10:49.186Z"
   },
   {
    "duration": 17,
    "start_time": "2025-04-13T19:11:33.114Z"
   },
   {
    "duration": 16,
    "start_time": "2025-04-13T19:11:36.565Z"
   },
   {
    "duration": 10,
    "start_time": "2025-04-13T19:11:43.978Z"
   },
   {
    "duration": 10,
    "start_time": "2025-04-13T19:11:47.805Z"
   },
   {
    "duration": 59,
    "start_time": "2025-04-13T19:11:53.931Z"
   },
   {
    "duration": 1916,
    "start_time": "2025-04-13T19:12:12.366Z"
   },
   {
    "duration": 4,
    "start_time": "2025-04-13T19:12:15.989Z"
   },
   {
    "duration": 172,
    "start_time": "2025-04-13T19:12:46.798Z"
   },
   {
    "duration": 12,
    "start_time": "2025-04-13T19:13:01.400Z"
   },
   {
    "duration": 174,
    "start_time": "2025-04-13T19:13:11.814Z"
   },
   {
    "duration": 9,
    "start_time": "2025-04-13T19:20:03.893Z"
   },
   {
    "duration": 158,
    "start_time": "2025-04-13T19:20:07.143Z"
   },
   {
    "duration": 670,
    "start_time": "2025-04-13T19:20:31.556Z"
   },
   {
    "duration": 11,
    "start_time": "2025-04-13T19:21:40.018Z"
   },
   {
    "duration": 8,
    "start_time": "2025-04-13T19:22:38.930Z"
   },
   {
    "duration": 3,
    "start_time": "2025-04-13T19:22:41.334Z"
   },
   {
    "duration": 171,
    "start_time": "2025-04-13T19:22:44.332Z"
   },
   {
    "duration": 257,
    "start_time": "2025-04-13T19:23:22.984Z"
   },
   {
    "duration": 14,
    "start_time": "2025-04-13T19:23:28.818Z"
   },
   {
    "duration": 8,
    "start_time": "2025-04-13T19:24:24.862Z"
   },
   {
    "duration": 4,
    "start_time": "2025-04-13T19:24:27.121Z"
   },
   {
    "duration": 180,
    "start_time": "2025-04-13T19:24:28.619Z"
   },
   {
    "duration": 233,
    "start_time": "2025-04-13T19:24:48.291Z"
   },
   {
    "duration": 12,
    "start_time": "2025-04-13T19:26:00.377Z"
   },
   {
    "duration": 12,
    "start_time": "2025-04-13T19:26:13.391Z"
   },
   {
    "duration": 163,
    "start_time": "2025-04-13T19:26:43.068Z"
   },
   {
    "duration": 5,
    "start_time": "2025-04-13T19:36:10.971Z"
   },
   {
    "duration": 5,
    "start_time": "2025-04-13T19:36:33.620Z"
   },
   {
    "duration": 5,
    "start_time": "2025-04-13T19:36:40.768Z"
   },
   {
    "duration": 5,
    "start_time": "2025-04-13T19:36:59.915Z"
   },
   {
    "duration": 5,
    "start_time": "2025-04-13T19:37:02.996Z"
   },
   {
    "duration": 2,
    "start_time": "2025-04-13T19:37:52.477Z"
   },
   {
    "duration": 3,
    "start_time": "2025-04-13T19:39:01.924Z"
   },
   {
    "duration": 3,
    "start_time": "2025-04-13T19:39:06.630Z"
   },
   {
    "duration": 2,
    "start_time": "2025-04-13T19:40:40.039Z"
   },
   {
    "duration": 4,
    "start_time": "2025-04-13T19:41:05.716Z"
   },
   {
    "duration": 3,
    "start_time": "2025-04-13T19:41:07.766Z"
   },
   {
    "duration": 3,
    "start_time": "2025-04-13T19:41:24.107Z"
   },
   {
    "duration": 212,
    "start_time": "2025-04-13T19:41:28.608Z"
   },
   {
    "duration": 4,
    "start_time": "2025-04-13T19:41:37.543Z"
   },
   {
    "duration": 3,
    "start_time": "2025-04-13T19:46:44.724Z"
   },
   {
    "duration": 3,
    "start_time": "2025-04-13T19:46:45.961Z"
   },
   {
    "duration": 2,
    "start_time": "2025-04-13T19:46:46.846Z"
   },
   {
    "duration": 4,
    "start_time": "2025-04-13T19:49:59.626Z"
   },
   {
    "duration": 3,
    "start_time": "2025-04-13T19:51:17.546Z"
   },
   {
    "duration": 5,
    "start_time": "2025-04-13T19:52:15.707Z"
   },
   {
    "duration": 7,
    "start_time": "2025-04-13T19:55:11.668Z"
   },
   {
    "duration": 3,
    "start_time": "2025-04-13T19:55:55.988Z"
   },
   {
    "duration": 7,
    "start_time": "2025-04-13T20:00:22.788Z"
   },
   {
    "duration": 4,
    "start_time": "2025-04-13T20:00:27.880Z"
   },
   {
    "duration": 5,
    "start_time": "2025-04-13T20:01:31.217Z"
   },
   {
    "duration": 4,
    "start_time": "2025-04-13T20:03:31.019Z"
   },
   {
    "duration": 4,
    "start_time": "2025-04-13T20:03:58.379Z"
   },
   {
    "duration": 4,
    "start_time": "2025-04-13T20:04:00.622Z"
   },
   {
    "duration": 3,
    "start_time": "2025-04-13T20:04:02.386Z"
   },
   {
    "duration": 4,
    "start_time": "2025-04-13T20:08:22.258Z"
   },
   {
    "duration": 4,
    "start_time": "2025-04-13T20:11:56.573Z"
   },
   {
    "duration": 4,
    "start_time": "2025-04-13T20:12:31.532Z"
   },
   {
    "duration": 5,
    "start_time": "2025-04-13T20:12:36.448Z"
   },
   {
    "duration": 4,
    "start_time": "2025-04-13T20:12:37.220Z"
   },
   {
    "duration": 2,
    "start_time": "2025-04-13T20:34:52.123Z"
   },
   {
    "duration": 312,
    "start_time": "2025-04-13T20:35:01.768Z"
   },
   {
    "duration": 166,
    "start_time": "2025-04-13T20:35:02.082Z"
   },
   {
    "duration": 10,
    "start_time": "2025-04-13T20:35:02.250Z"
   },
   {
    "duration": 5,
    "start_time": "2025-04-13T20:35:02.262Z"
   },
   {
    "duration": 7,
    "start_time": "2025-04-13T20:35:02.269Z"
   },
   {
    "duration": 5,
    "start_time": "2025-04-13T20:35:02.278Z"
   },
   {
    "duration": 5,
    "start_time": "2025-04-13T20:35:02.285Z"
   },
   {
    "duration": 39,
    "start_time": "2025-04-13T20:35:02.292Z"
   },
   {
    "duration": 18,
    "start_time": "2025-04-13T20:35:02.333Z"
   },
   {
    "duration": 4,
    "start_time": "2025-04-13T20:35:02.355Z"
   },
   {
    "duration": 15,
    "start_time": "2025-04-13T20:35:02.361Z"
   },
   {
    "duration": 7,
    "start_time": "2025-04-13T20:35:02.378Z"
   },
   {
    "duration": 13,
    "start_time": "2025-04-13T20:35:02.387Z"
   },
   {
    "duration": 33,
    "start_time": "2025-04-13T20:35:02.402Z"
   },
   {
    "duration": 11,
    "start_time": "2025-04-13T20:35:02.436Z"
   },
   {
    "duration": 7,
    "start_time": "2025-04-13T20:35:02.448Z"
   },
   {
    "duration": 13,
    "start_time": "2025-04-13T20:35:02.457Z"
   },
   {
    "duration": 4,
    "start_time": "2025-04-13T20:35:02.472Z"
   },
   {
    "duration": 14,
    "start_time": "2025-04-13T20:35:02.478Z"
   },
   {
    "duration": 47,
    "start_time": "2025-04-13T20:35:02.494Z"
   },
   {
    "duration": 5,
    "start_time": "2025-04-13T20:35:02.543Z"
   },
   {
    "duration": 21,
    "start_time": "2025-04-13T20:35:02.551Z"
   },
   {
    "duration": 13,
    "start_time": "2025-04-13T20:35:02.574Z"
   },
   {
    "duration": 8,
    "start_time": "2025-04-13T20:35:02.589Z"
   },
   {
    "duration": 37,
    "start_time": "2025-04-13T20:35:02.598Z"
   },
   {
    "duration": 19,
    "start_time": "2025-04-13T20:35:02.637Z"
   },
   {
    "duration": 10,
    "start_time": "2025-04-13T20:35:02.657Z"
   },
   {
    "duration": 10,
    "start_time": "2025-04-13T20:35:02.671Z"
   },
   {
    "duration": 90,
    "start_time": "2025-04-13T20:35:02.682Z"
   },
   {
    "duration": 175,
    "start_time": "2025-04-13T20:35:02.774Z"
   },
   {
    "duration": 4,
    "start_time": "2025-04-13T20:35:02.951Z"
   },
   {
    "duration": 180,
    "start_time": "2025-04-13T20:35:02.956Z"
   },
   {
    "duration": 169,
    "start_time": "2025-04-13T20:35:03.139Z"
   },
   {
    "duration": 22,
    "start_time": "2025-04-13T20:35:03.310Z"
   },
   {
    "duration": 165,
    "start_time": "2025-04-13T20:35:03.333Z"
   },
   {
    "duration": 7,
    "start_time": "2025-04-13T20:35:03.500Z"
   },
   {
    "duration": 180,
    "start_time": "2025-04-13T20:35:03.509Z"
   },
   {
    "duration": 654,
    "start_time": "2025-04-13T20:35:03.691Z"
   },
   {
    "duration": 11,
    "start_time": "2025-04-13T20:35:04.346Z"
   },
   {
    "duration": 174,
    "start_time": "2025-04-13T20:35:04.359Z"
   },
   {
    "duration": 8,
    "start_time": "2025-04-13T20:35:04.535Z"
   },
   {
    "duration": 3,
    "start_time": "2025-04-13T20:35:04.545Z"
   },
   {
    "duration": 182,
    "start_time": "2025-04-13T20:35:04.551Z"
   },
   {
    "duration": 290,
    "start_time": "2025-04-13T20:35:04.735Z"
   },
   {
    "duration": 13,
    "start_time": "2025-04-13T20:35:05.031Z"
   },
   {
    "duration": 8,
    "start_time": "2025-04-13T20:35:05.046Z"
   },
   {
    "duration": 3,
    "start_time": "2025-04-13T20:35:05.055Z"
   },
   {
    "duration": 198,
    "start_time": "2025-04-13T20:35:05.060Z"
   },
   {
    "duration": 306,
    "start_time": "2025-04-13T20:35:05.259Z"
   },
   {
    "duration": 11,
    "start_time": "2025-04-13T20:35:05.567Z"
   },
   {
    "duration": 172,
    "start_time": "2025-04-13T20:35:05.580Z"
   },
   {
    "duration": 5,
    "start_time": "2025-04-13T20:35:05.755Z"
   },
   {
    "duration": 313,
    "start_time": "2025-04-13T20:35:05.762Z"
   },
   {
    "duration": 0,
    "start_time": "2025-04-13T20:35:06.077Z"
   },
   {
    "duration": 7,
    "start_time": "2025-04-13T20:35:39.019Z"
   },
   {
    "duration": 10,
    "start_time": "2025-04-13T20:37:40.303Z"
   },
   {
    "duration": 6,
    "start_time": "2025-04-13T20:38:02.904Z"
   },
   {
    "duration": 8,
    "start_time": "2025-04-13T20:38:11.561Z"
   },
   {
    "duration": 18,
    "start_time": "2025-04-13T20:39:53.609Z"
   },
   {
    "duration": 8,
    "start_time": "2025-04-13T20:41:01.592Z"
   },
   {
    "duration": 5,
    "start_time": "2025-04-13T20:42:26.212Z"
   },
   {
    "duration": 4,
    "start_time": "2025-04-13T20:42:31.602Z"
   },
   {
    "duration": 3,
    "start_time": "2025-04-13T20:42:47.207Z"
   },
   {
    "duration": 4,
    "start_time": "2025-04-13T20:43:08.065Z"
   },
   {
    "duration": 9,
    "start_time": "2025-04-13T20:43:15.801Z"
   },
   {
    "duration": 6,
    "start_time": "2025-04-13T20:43:26.198Z"
   },
   {
    "duration": 5,
    "start_time": "2025-04-13T20:43:29.499Z"
   },
   {
    "duration": 4,
    "start_time": "2025-04-13T20:43:57.444Z"
   },
   {
    "duration": 4,
    "start_time": "2025-04-13T20:44:33.446Z"
   }
  ],
  "colab": {
   "provenance": []
  },
  "kernelspec": {
   "display_name": "env (3.8.10)",
   "language": "python",
   "name": "python3"
  },
  "language_info": {
   "codemirror_mode": {
    "name": "ipython",
    "version": 3
   },
   "file_extension": ".py",
   "mimetype": "text/x-python",
   "name": "python",
   "nbconvert_exporter": "python",
   "pygments_lexer": "ipython3",
   "version": "3.8.10"
  },
  "toc": {
   "base_numbering": 1,
   "nav_menu": {},
   "number_sections": true,
   "sideBar": true,
   "skip_h1_title": false,
   "title_cell": "Table of Contents",
   "title_sidebar": "Contents",
   "toc_cell": false,
   "toc_position": {
    "height": "calc(100% - 180px)",
    "left": "10px",
    "top": "150px",
    "width": "193.792px"
   },
   "toc_section_display": true,
   "toc_window_display": true
  }
 },
 "nbformat": 4,
 "nbformat_minor": 1
}
